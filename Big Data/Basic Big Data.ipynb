{
  "nbformat": 4,
  "nbformat_minor": 0,
  "metadata": {
    "colab": {
      "provenance": []
    },
    "kernelspec": {
      "name": "python3",
      "display_name": "Python 3"
    },
    "language_info": {
      "name": "python"
    }
  },
  "cells": [
    {
      "cell_type": "markdown",
      "source": [
        "#Kode Awal"
      ],
      "metadata": {
        "id": "LzZ6Qp2F1ixm"
      }
    },
    {
      "cell_type": "code",
      "execution_count": 8,
      "metadata": {
        "colab": {
          "base_uri": "https://localhost:8080/"
        },
        "id": "DcysptPmqzB-",
        "outputId": "94ab490c-0260-4301-bc71-5bb994f056a2"
      },
      "outputs": [
        {
          "output_type": "stream",
          "name": "stdout",
          "text": [
            "File 'video_data.csv' telah dibuat dengan 20 baris.\n"
          ]
        }
      ],
      "source": [
        "# 1\n",
        "\n",
        "import pandas as pd\n",
        "import numpy as np\n",
        "\n",
        "# Membuat data simulasi dengan 20 baris\n",
        "data = {\n",
        "    'User_ID': np.random.randint(1, 20, 20),\n",
        "    'Video_Type': np.random.choice(['Olahraga', 'Hiburan', 'Memasak', 'Edukasi'], 20),\n",
        "    'Watch_Time_Minutes': np.random.randint(1, 60, 20)\n",
        "}\n",
        "\n",
        "df_pandas = pd.DataFrame(data)\n",
        "\n",
        "# Menambahkan rekomendasi sederhana\n",
        "def get_recommendation(video_type):\n",
        "    if video_type == 'Olahraga':\n",
        "        return 'Sayur-sayuran untuk badan ideal'\n",
        "    elif video_type == 'Memasak':\n",
        "        return 'Peralatan dapur modern'\n",
        "    else:\n",
        "        return 'Produk lain-lain'\n",
        "\n",
        "df_pandas['Recommendation'] = df_pandas['Video_Type'].apply(get_recommendation)\n",
        "\n",
        "# Simpan data ke file CSV\n",
        "df_pandas.to_csv('video_data.csv', index=False)\n",
        "print(\"File 'video_data.csv' telah dibuat dengan 20 baris.\")"
      ]
    },
    {
      "cell_type": "code",
      "source": [
        "from pyspark.sql import SparkSession\n",
        "from pyspark.sql.functions import count, col, desc\n",
        "\n",
        "# Membuat Spark Session\n",
        "spark = SparkSession.builder \\\n",
        "    .appName(\"SistemRekomendasi\") \\\n",
        "    .config(\"spark.master\", \"local[*]\") \\\n",
        "    .getOrCreate()\n",
        "\n",
        "# Membaca data dari file CSV\n",
        "df_spark = spark.read.csv(\"video_data.csv\", header=True, inferSchema=True)\n",
        "\n",
        "print(\"Schema Data:\")\n",
        "df_spark.printSchema()\n",
        "\n",
        "print(\"\\nContoh Data:\")\n",
        "df_spark.show(20) # Menampilkan semua 20 baris\n",
        "\n",
        "print(\"\\nSaran Rekomendasi Berdasarkan Jenis Video:\")\n",
        "# Temukan rekomendasi yang paling sering muncul untuk setiap jenis video\n",
        "recommendations = df_spark.groupBy(\"Video_Type\", \"Recommendation\").agg(count(\"*\").alias(\"count\"))\n",
        "final_result = recommendations.orderBy(col(\"count\").desc()).show(truncate=False)"
      ],
      "metadata": {
        "colab": {
          "base_uri": "https://localhost:8080/"
        },
        "id": "k3ktfLrQraFj",
        "outputId": "7cf13de5-d4f4-48b4-df0c-9d454e7d3aeb"
      },
      "execution_count": 9,
      "outputs": [
        {
          "output_type": "stream",
          "name": "stdout",
          "text": [
            "Schema Data:\n",
            "root\n",
            " |-- User_ID: integer (nullable = true)\n",
            " |-- Video_Type: string (nullable = true)\n",
            " |-- Watch_Time_Minutes: integer (nullable = true)\n",
            " |-- Recommendation: string (nullable = true)\n",
            "\n",
            "\n",
            "Contoh Data:\n",
            "+-------+----------+------------------+--------------------+\n",
            "|User_ID|Video_Type|Watch_Time_Minutes|      Recommendation|\n",
            "+-------+----------+------------------+--------------------+\n",
            "|      8|   Hiburan|                51|    Produk lain-lain|\n",
            "|     14|   Memasak|                26|Peralatan dapur m...|\n",
            "|      2|   Edukasi|                20|    Produk lain-lain|\n",
            "|     18|   Edukasi|                49|    Produk lain-lain|\n",
            "|      1|   Memasak|                53|Peralatan dapur m...|\n",
            "|      2|   Hiburan|                27|    Produk lain-lain|\n",
            "|     10|  Olahraga|                37|Sayur-sayuran unt...|\n",
            "|     17|   Memasak|                23|Peralatan dapur m...|\n",
            "|     17|   Hiburan|                43|    Produk lain-lain|\n",
            "|     18|   Memasak|                 7|Peralatan dapur m...|\n",
            "|     18|  Olahraga|                18|Sayur-sayuran unt...|\n",
            "|     12|  Olahraga|                20|Sayur-sayuran unt...|\n",
            "|     12|  Olahraga|                21|Sayur-sayuran unt...|\n",
            "|     18|   Hiburan|                14|    Produk lain-lain|\n",
            "|      8|   Hiburan|                50|    Produk lain-lain|\n",
            "|      5|   Edukasi|                 6|    Produk lain-lain|\n",
            "|      3|  Olahraga|                18|Sayur-sayuran unt...|\n",
            "|     14|   Hiburan|                38|    Produk lain-lain|\n",
            "|     11|   Memasak|                55|Peralatan dapur m...|\n",
            "|      6|   Memasak|                20|Peralatan dapur m...|\n",
            "+-------+----------+------------------+--------------------+\n",
            "\n",
            "\n",
            "Saran Rekomendasi Berdasarkan Jenis Video:\n",
            "+----------+-------------------------------+-----+\n",
            "|Video_Type|Recommendation                 |count|\n",
            "+----------+-------------------------------+-----+\n",
            "|Hiburan   |Produk lain-lain               |6    |\n",
            "|Memasak   |Peralatan dapur modern         |6    |\n",
            "|Olahraga  |Sayur-sayuran untuk badan ideal|5    |\n",
            "|Edukasi   |Produk lain-lain               |3    |\n",
            "+----------+-------------------------------+-----+\n",
            "\n"
          ]
        }
      ]
    },
    {
      "cell_type": "markdown",
      "source": [
        "#Tugas"
      ],
      "metadata": {
        "id": "g-GeJXmrwjJG"
      }
    },
    {
      "cell_type": "code",
      "source": [
        "import pandas as pd\n",
        "import numpy as np\n",
        "\n",
        "data = {\n",
        "    'User_ID': np.random.permutation(np.arange(1, 21)),\n",
        "    'Halaman': np.random.choice(\n",
        "        ['Berita', 'Olahraga', 'Musik', 'Film', 'Kuliner',\n",
        "         'Teknologi', 'Edukasi', 'Fashion'], 20),\n",
        "    'Watch_Time_Minutes': np.random.randint(1, 60, 20)\n",
        "}\n",
        "\n",
        "df_pandas = pd.DataFrame(data)\n",
        "\n",
        "# Menambahkan rekomendasi sederhana\n",
        "def get_recommendation(Halaman):\n",
        "    if Halaman == 'Berita':\n",
        "        return 'Langganan koran digital'\n",
        "    elif Halaman == 'Olahraga':\n",
        "        return 'Peralatan fitness dan nutrisi'\n",
        "    elif Halaman == 'Musik':\n",
        "        return 'Headset atau layanan streaming musik'\n",
        "    elif Halaman == 'Film':\n",
        "        return 'Voucher nonton bioskop'\n",
        "    elif Halaman == 'Kuliner':\n",
        "        return 'Voucher restoran atau resep eksklusif'\n",
        "    elif Halaman == 'Teknologi':\n",
        "        return 'Gadget terbaru'\n",
        "    elif Halaman == 'Edukasi':\n",
        "        return 'Kursus online dan e-book'\n",
        "    elif Halaman == 'Fashion':\n",
        "        return 'Diskon baju dan aksesoris'\n",
        "    else:\n",
        "        return 'Produk lain-lain'\n",
        "\n",
        "df_pandas['Recommendation'] = df_pandas['Halaman'].apply(get_recommendation)\n",
        "\n",
        "# Simpan data ke file CSV\n",
        "df_pandas.to_csv('data_pengunjung.csv', index=False)\n",
        "print(\"File 'data_pengunjung.csv' telah dibuat dengan 20 baris.\")"
      ],
      "metadata": {
        "colab": {
          "base_uri": "https://localhost:8080/"
        },
        "id": "uXZImprNxAJ2",
        "outputId": "21c7e34f-b7ec-4fbe-821c-bb14cd7535af"
      },
      "execution_count": 14,
      "outputs": [
        {
          "output_type": "stream",
          "name": "stdout",
          "text": [
            "File 'data_pengunjung.csv' telah dibuat dengan 20 baris.\n"
          ]
        }
      ]
    },
    {
      "cell_type": "code",
      "source": [
        "from pyspark.sql import SparkSession\n",
        "from pyspark.sql.functions import count, col, desc\n",
        "\n",
        "# Membuat Spark Session\n",
        "spark = SparkSession.builder \\\n",
        "    .appName(\"SistemRekomendasi\") \\\n",
        "    .config(\"spark.master\", \"local[*]\") \\\n",
        "    .getOrCreate()\n",
        "\n",
        "# Membaca data dari file CSV\n",
        "df_spark = spark.read.csv(\"data_pengunjung.csv\", header=True, inferSchema=True)\n",
        "\n",
        "print(\"Schema Data:\")\n",
        "df_spark.printSchema()\n",
        "\n",
        "print(\"\\nContoh Data:\")\n",
        "df_spark.show(20) # Menampilkan semua 20 baris\n",
        "\n",
        "print(\"\\nSaran Rekomendasi Berdasarkan Jenis Video:\")\n",
        "# Temukan rekomendasi yang paling sering muncul untuk setiap jenis video\n",
        "recommendations = df_spark.groupBy(\"Halaman\", \"Recommendation\").agg(count(\"*\").alias(\"count\"))\n",
        "final_result = recommendations.orderBy(col(\"count\").desc()).show(truncate=False)"
      ],
      "metadata": {
        "colab": {
          "base_uri": "https://localhost:8080/"
        },
        "id": "fZca-yDD1L0i",
        "outputId": "c20f32f2-a796-4627-f9bf-7e709d096525"
      },
      "execution_count": 15,
      "outputs": [
        {
          "output_type": "stream",
          "name": "stdout",
          "text": [
            "Schema Data:\n",
            "root\n",
            " |-- User_ID: integer (nullable = true)\n",
            " |-- Halaman: string (nullable = true)\n",
            " |-- Watch_Time_Minutes: integer (nullable = true)\n",
            " |-- Recommendation: string (nullable = true)\n",
            "\n",
            "\n",
            "Contoh Data:\n",
            "+-------+---------+------------------+--------------------+\n",
            "|User_ID|  Halaman|Watch_Time_Minutes|      Recommendation|\n",
            "+-------+---------+------------------+--------------------+\n",
            "|      4|  Fashion|                46|Diskon baju dan a...|\n",
            "|     11|     Film|                31|Voucher nonton bi...|\n",
            "|      9|    Musik|                54|Headset atau laya...|\n",
            "|     20|   Berita|                25|Langganan koran d...|\n",
            "|      6|   Berita|                 8|Langganan koran d...|\n",
            "|     10|  Fashion|                46|Diskon baju dan a...|\n",
            "|      7|    Musik|                42|Headset atau laya...|\n",
            "|      5|  Edukasi|                39|Kursus online dan...|\n",
            "|     16|Teknologi|                34|      Gadget terbaru|\n",
            "|     13|   Berita|                35|Langganan koran d...|\n",
            "|     15|     Film|                57|Voucher nonton bi...|\n",
            "|     12|   Berita|                25|Langganan koran d...|\n",
            "|     17|  Edukasi|                50|Kursus online dan...|\n",
            "|     19|    Musik|                56|Headset atau laya...|\n",
            "|     14|Teknologi|                48|      Gadget terbaru|\n",
            "|      1|  Kuliner|                19|Voucher restoran ...|\n",
            "|      3|Teknologi|                24|      Gadget terbaru|\n",
            "|      2|  Fashion|                 2|Diskon baju dan a...|\n",
            "|     18|     Film|                19|Voucher nonton bi...|\n",
            "|      8|  Edukasi|                38|Kursus online dan...|\n",
            "+-------+---------+------------------+--------------------+\n",
            "\n",
            "\n",
            "Saran Rekomendasi Berdasarkan Jenis Video:\n",
            "+---------+-------------------------------------+-----+\n",
            "|Halaman  |Recommendation                       |count|\n",
            "+---------+-------------------------------------+-----+\n",
            "|Berita   |Langganan koran digital              |4    |\n",
            "|Film     |Voucher nonton bioskop               |3    |\n",
            "|Fashion  |Diskon baju dan aksesoris            |3    |\n",
            "|Edukasi  |Kursus online dan e-book             |3    |\n",
            "|Teknologi|Gadget terbaru                       |3    |\n",
            "|Musik    |Headset atau layanan streaming musik |3    |\n",
            "|Kuliner  |Voucher restoran atau resep eksklusif|1    |\n",
            "+---------+-------------------------------------+-----+\n",
            "\n"
          ]
        }
      ]
    }
  ]
}