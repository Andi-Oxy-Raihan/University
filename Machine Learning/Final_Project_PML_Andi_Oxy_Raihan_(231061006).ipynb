{
  "nbformat": 4,
  "nbformat_minor": 0,
  "metadata": {
    "colab": {
      "provenance": []
    },
    "kernelspec": {
      "name": "python3",
      "display_name": "Python 3"
    },
    "language_info": {
      "name": "python"
    }
  },
  "cells": [
    {
      "cell_type": "markdown",
      "source": [
        "#Pendahuluan"
      ],
      "metadata": {
        "id": "EoceF_nOsXNK"
      }
    },
    {
      "cell_type": "markdown",
      "source": [
        "**Latar Belakang**  \n",
        "\n",
        "Kesehatan darah merupakan salah satu indikator penting dalam menilai kondisi kesehatan individu. Pemeriksaan hematologi, yang mencakup analisis berbagai parameter darah seperti hematokrit, hemoglobin, eritrosit, leukosit, dan trombosit, digunakan secara luas dalam dunia medis untuk mendiagnosis berbagai penyakit, seperti anemia, gangguan pembekuan darah, infeksi, hingga kondisi kronis tertentu. Setiap parameter darah memberikan gambaran unik tentang fungsi tubuh, baik dari aspek transportasi oksigen, kekebalan tubuh, maupun kemampuan regenerasi sel.  \n",
        "\n",
        "Dalam dunia medis modern, analisis data hematologi menjadi semakin penting untuk mendukung diagnosis berbasis bukti dan pengambilan keputusan yang cepat. Dengan kemajuan teknologi, dataset hematologi yang besar dapat digunakan untuk membangun model prediktif berbasis data yang dapat membantu dalam identifikasi dini berbagai penyakit. Misalnya, perbedaan kadar hemoglobin atau ukuran sel darah merah (MCV) dapat membantu mendeteksi jenis anemia tertentu, sementara jumlah trombosit dapat mengidentifikasi risiko gangguan pembekuan.  \n",
        "\n",
        "Dataset yang digunakan dalam penelitian ini memuat berbagai parameter hematologi seperti hematokrit, hemoglobin, eritrosit, leukosit, trombosit, serta variabel demografis seperti usia dan jenis kelamin. Dataset ini juga menyertakan label sumber (source) yang kemungkinan mengindikasikan kondisi kesehatan atau kategori pasien tertentu (misalnya, pasien sehat vs pasien dengan penyakit). Analisis terhadap dataset ini berpotensi memberikan pemahaman yang lebih mendalam terkait hubungan antarparameter hematologi serta relevansinya dengan kondisi klinis."
      ],
      "metadata": {
        "id": "uB9VltM1sfb8"
      }
    },
    {
      "cell_type": "markdown",
      "source": [
        "**Metode Analisis**\n",
        "\n",
        "Pada Analisis dataset ini digunakan metode `support Vector Machine (SVM)` untuk menentukan klasifikasi yang tepat untuk mengindikasikan kelainan pada seseorang berdasarkan hasil uji tes daranya\n",
        "\n",
        "Support Vector Machine (SVM) adalah metode yang cocok untuk dataset hematologi ini karena kemampuannya menangani data berdimensi tinggi dan mendeteksi pola non-linear. SVM bekerja dengan mencari hyperplane yang memisahkan kelas data (misalnya, `SOURCE` sebagai target) dengan margin maksimum, sehingga menghasilkan model yang robust, terutama pada dataset kecil hingga sedang seperti ini. Dengan kernel trick, SVM dapat menangani hubungan non-linear antara variabel, misalnya pengaruh kombinasi parameter darah seperti `HAEMOGLOBINS`, `ERYTHROCYTE`, dan `THROMBOCYTE` terhadap label."
      ],
      "metadata": {
        "id": "NoZWe34BulUk"
      }
    },
    {
      "cell_type": "markdown",
      "source": [
        "#Import Library dan Dataset"
      ],
      "metadata": {
        "id": "t7OqZYxXrIPX"
      }
    },
    {
      "cell_type": "markdown",
      "source": [
        "Pada bagian ini digunakan 3 library yang digunakan untuk mengolah data. Berikut library yang digunakan:\n",
        "- `Numpy`: adalah library yang digunakan untuk komputasi numerik dan operasi matematis dengan array multidimensi yang efisien, termasuk aljabar linear, statistik, dan transformasi Fourier.\n",
        "- `Pandas`: berfungsi untuk manipulasi dan analisis data berbentuk tabel (dataframe), memungkinkan pengelolaan data dari berbagai format seperti CSV atau Excel, serta menyediakan alat untuk pembersihan dan analisis data yang kompleks.\n",
        "- `matplotlib.pyplot`: adalah library untuk membuat visualisasi data, seperti grafik garis, batang, scatter, atau histogram, yang memungkinkan penyajian data secara visual dengan pengaturan tampilan yang fleksibel."
      ],
      "metadata": {
        "id": "uPaRdQmnNytY"
      }
    },
    {
      "cell_type": "code",
      "execution_count": 1,
      "metadata": {
        "colab": {
          "base_uri": "https://localhost:8080/",
          "height": 206
        },
        "id": "L2Audy9iqEAD",
        "outputId": "c598e148-6794-42c8-eae3-655d8c3969fa"
      },
      "outputs": [
        {
          "output_type": "execute_result",
          "data": {
            "text/plain": [
              "   HAEMATOCRIT  HAEMOGLOBINS  ERYTHROCYTE  LEUCOCYTE  THROMBOCYTE   MCH  MCHC  \\\n",
              "0         33.8          11.1         4.18        4.6          150  26.6  32.8   \n",
              "1         44.6          14.0         6.86        6.3          232  20.4  31.4   \n",
              "2         42.9          14.0         4.57        6.2          336  30.6  32.6   \n",
              "3         41.9          14.4         4.67        3.5          276  30.8  34.4   \n",
              "4         40.6          13.3         4.85       14.9          711  27.4  32.8   \n",
              "\n",
              "    MCV  AGE SEX  SOURCE  \n",
              "0  80.9   33   F       1  \n",
              "1  65.0   36   M       0  \n",
              "2  93.9   70   F       0  \n",
              "3  89.7   18   F       0  \n",
              "4  83.7   36   M       0  "
            ],
            "text/html": [
              "\n",
              "  <div id=\"df-3375c718-3945-44a8-9480-7fe57cdb4934\" class=\"colab-df-container\">\n",
              "    <div>\n",
              "<style scoped>\n",
              "    .dataframe tbody tr th:only-of-type {\n",
              "        vertical-align: middle;\n",
              "    }\n",
              "\n",
              "    .dataframe tbody tr th {\n",
              "        vertical-align: top;\n",
              "    }\n",
              "\n",
              "    .dataframe thead th {\n",
              "        text-align: right;\n",
              "    }\n",
              "</style>\n",
              "<table border=\"1\" class=\"dataframe\">\n",
              "  <thead>\n",
              "    <tr style=\"text-align: right;\">\n",
              "      <th></th>\n",
              "      <th>HAEMATOCRIT</th>\n",
              "      <th>HAEMOGLOBINS</th>\n",
              "      <th>ERYTHROCYTE</th>\n",
              "      <th>LEUCOCYTE</th>\n",
              "      <th>THROMBOCYTE</th>\n",
              "      <th>MCH</th>\n",
              "      <th>MCHC</th>\n",
              "      <th>MCV</th>\n",
              "      <th>AGE</th>\n",
              "      <th>SEX</th>\n",
              "      <th>SOURCE</th>\n",
              "    </tr>\n",
              "  </thead>\n",
              "  <tbody>\n",
              "    <tr>\n",
              "      <th>0</th>\n",
              "      <td>33.8</td>\n",
              "      <td>11.1</td>\n",
              "      <td>4.18</td>\n",
              "      <td>4.6</td>\n",
              "      <td>150</td>\n",
              "      <td>26.6</td>\n",
              "      <td>32.8</td>\n",
              "      <td>80.9</td>\n",
              "      <td>33</td>\n",
              "      <td>F</td>\n",
              "      <td>1</td>\n",
              "    </tr>\n",
              "    <tr>\n",
              "      <th>1</th>\n",
              "      <td>44.6</td>\n",
              "      <td>14.0</td>\n",
              "      <td>6.86</td>\n",
              "      <td>6.3</td>\n",
              "      <td>232</td>\n",
              "      <td>20.4</td>\n",
              "      <td>31.4</td>\n",
              "      <td>65.0</td>\n",
              "      <td>36</td>\n",
              "      <td>M</td>\n",
              "      <td>0</td>\n",
              "    </tr>\n",
              "    <tr>\n",
              "      <th>2</th>\n",
              "      <td>42.9</td>\n",
              "      <td>14.0</td>\n",
              "      <td>4.57</td>\n",
              "      <td>6.2</td>\n",
              "      <td>336</td>\n",
              "      <td>30.6</td>\n",
              "      <td>32.6</td>\n",
              "      <td>93.9</td>\n",
              "      <td>70</td>\n",
              "      <td>F</td>\n",
              "      <td>0</td>\n",
              "    </tr>\n",
              "    <tr>\n",
              "      <th>3</th>\n",
              "      <td>41.9</td>\n",
              "      <td>14.4</td>\n",
              "      <td>4.67</td>\n",
              "      <td>3.5</td>\n",
              "      <td>276</td>\n",
              "      <td>30.8</td>\n",
              "      <td>34.4</td>\n",
              "      <td>89.7</td>\n",
              "      <td>18</td>\n",
              "      <td>F</td>\n",
              "      <td>0</td>\n",
              "    </tr>\n",
              "    <tr>\n",
              "      <th>4</th>\n",
              "      <td>40.6</td>\n",
              "      <td>13.3</td>\n",
              "      <td>4.85</td>\n",
              "      <td>14.9</td>\n",
              "      <td>711</td>\n",
              "      <td>27.4</td>\n",
              "      <td>32.8</td>\n",
              "      <td>83.7</td>\n",
              "      <td>36</td>\n",
              "      <td>M</td>\n",
              "      <td>0</td>\n",
              "    </tr>\n",
              "  </tbody>\n",
              "</table>\n",
              "</div>\n",
              "    <div class=\"colab-df-buttons\">\n",
              "\n",
              "  <div class=\"colab-df-container\">\n",
              "    <button class=\"colab-df-convert\" onclick=\"convertToInteractive('df-3375c718-3945-44a8-9480-7fe57cdb4934')\"\n",
              "            title=\"Convert this dataframe to an interactive table.\"\n",
              "            style=\"display:none;\">\n",
              "\n",
              "  <svg xmlns=\"http://www.w3.org/2000/svg\" height=\"24px\" viewBox=\"0 -960 960 960\">\n",
              "    <path d=\"M120-120v-720h720v720H120Zm60-500h600v-160H180v160Zm220 220h160v-160H400v160Zm0 220h160v-160H400v160ZM180-400h160v-160H180v160Zm440 0h160v-160H620v160ZM180-180h160v-160H180v160Zm440 0h160v-160H620v160Z\"/>\n",
              "  </svg>\n",
              "    </button>\n",
              "\n",
              "  <style>\n",
              "    .colab-df-container {\n",
              "      display:flex;\n",
              "      gap: 12px;\n",
              "    }\n",
              "\n",
              "    .colab-df-convert {\n",
              "      background-color: #E8F0FE;\n",
              "      border: none;\n",
              "      border-radius: 50%;\n",
              "      cursor: pointer;\n",
              "      display: none;\n",
              "      fill: #1967D2;\n",
              "      height: 32px;\n",
              "      padding: 0 0 0 0;\n",
              "      width: 32px;\n",
              "    }\n",
              "\n",
              "    .colab-df-convert:hover {\n",
              "      background-color: #E2EBFA;\n",
              "      box-shadow: 0px 1px 2px rgba(60, 64, 67, 0.3), 0px 1px 3px 1px rgba(60, 64, 67, 0.15);\n",
              "      fill: #174EA6;\n",
              "    }\n",
              "\n",
              "    .colab-df-buttons div {\n",
              "      margin-bottom: 4px;\n",
              "    }\n",
              "\n",
              "    [theme=dark] .colab-df-convert {\n",
              "      background-color: #3B4455;\n",
              "      fill: #D2E3FC;\n",
              "    }\n",
              "\n",
              "    [theme=dark] .colab-df-convert:hover {\n",
              "      background-color: #434B5C;\n",
              "      box-shadow: 0px 1px 3px 1px rgba(0, 0, 0, 0.15);\n",
              "      filter: drop-shadow(0px 1px 2px rgba(0, 0, 0, 0.3));\n",
              "      fill: #FFFFFF;\n",
              "    }\n",
              "  </style>\n",
              "\n",
              "    <script>\n",
              "      const buttonEl =\n",
              "        document.querySelector('#df-3375c718-3945-44a8-9480-7fe57cdb4934 button.colab-df-convert');\n",
              "      buttonEl.style.display =\n",
              "        google.colab.kernel.accessAllowed ? 'block' : 'none';\n",
              "\n",
              "      async function convertToInteractive(key) {\n",
              "        const element = document.querySelector('#df-3375c718-3945-44a8-9480-7fe57cdb4934');\n",
              "        const dataTable =\n",
              "          await google.colab.kernel.invokeFunction('convertToInteractive',\n",
              "                                                    [key], {});\n",
              "        if (!dataTable) return;\n",
              "\n",
              "        const docLinkHtml = 'Like what you see? Visit the ' +\n",
              "          '<a target=\"_blank\" href=https://colab.research.google.com/notebooks/data_table.ipynb>data table notebook</a>'\n",
              "          + ' to learn more about interactive tables.';\n",
              "        element.innerHTML = '';\n",
              "        dataTable['output_type'] = 'display_data';\n",
              "        await google.colab.output.renderOutput(dataTable, element);\n",
              "        const docLink = document.createElement('div');\n",
              "        docLink.innerHTML = docLinkHtml;\n",
              "        element.appendChild(docLink);\n",
              "      }\n",
              "    </script>\n",
              "  </div>\n",
              "\n",
              "\n",
              "<div id=\"df-fbc698a1-a0c5-4503-9d6d-96eae19d1e60\">\n",
              "  <button class=\"colab-df-quickchart\" onclick=\"quickchart('df-fbc698a1-a0c5-4503-9d6d-96eae19d1e60')\"\n",
              "            title=\"Suggest charts\"\n",
              "            style=\"display:none;\">\n",
              "\n",
              "<svg xmlns=\"http://www.w3.org/2000/svg\" height=\"24px\"viewBox=\"0 0 24 24\"\n",
              "     width=\"24px\">\n",
              "    <g>\n",
              "        <path d=\"M19 3H5c-1.1 0-2 .9-2 2v14c0 1.1.9 2 2 2h14c1.1 0 2-.9 2-2V5c0-1.1-.9-2-2-2zM9 17H7v-7h2v7zm4 0h-2V7h2v10zm4 0h-2v-4h2v4z\"/>\n",
              "    </g>\n",
              "</svg>\n",
              "  </button>\n",
              "\n",
              "<style>\n",
              "  .colab-df-quickchart {\n",
              "      --bg-color: #E8F0FE;\n",
              "      --fill-color: #1967D2;\n",
              "      --hover-bg-color: #E2EBFA;\n",
              "      --hover-fill-color: #174EA6;\n",
              "      --disabled-fill-color: #AAA;\n",
              "      --disabled-bg-color: #DDD;\n",
              "  }\n",
              "\n",
              "  [theme=dark] .colab-df-quickchart {\n",
              "      --bg-color: #3B4455;\n",
              "      --fill-color: #D2E3FC;\n",
              "      --hover-bg-color: #434B5C;\n",
              "      --hover-fill-color: #FFFFFF;\n",
              "      --disabled-bg-color: #3B4455;\n",
              "      --disabled-fill-color: #666;\n",
              "  }\n",
              "\n",
              "  .colab-df-quickchart {\n",
              "    background-color: var(--bg-color);\n",
              "    border: none;\n",
              "    border-radius: 50%;\n",
              "    cursor: pointer;\n",
              "    display: none;\n",
              "    fill: var(--fill-color);\n",
              "    height: 32px;\n",
              "    padding: 0;\n",
              "    width: 32px;\n",
              "  }\n",
              "\n",
              "  .colab-df-quickchart:hover {\n",
              "    background-color: var(--hover-bg-color);\n",
              "    box-shadow: 0 1px 2px rgba(60, 64, 67, 0.3), 0 1px 3px 1px rgba(60, 64, 67, 0.15);\n",
              "    fill: var(--button-hover-fill-color);\n",
              "  }\n",
              "\n",
              "  .colab-df-quickchart-complete:disabled,\n",
              "  .colab-df-quickchart-complete:disabled:hover {\n",
              "    background-color: var(--disabled-bg-color);\n",
              "    fill: var(--disabled-fill-color);\n",
              "    box-shadow: none;\n",
              "  }\n",
              "\n",
              "  .colab-df-spinner {\n",
              "    border: 2px solid var(--fill-color);\n",
              "    border-color: transparent;\n",
              "    border-bottom-color: var(--fill-color);\n",
              "    animation:\n",
              "      spin 1s steps(1) infinite;\n",
              "  }\n",
              "\n",
              "  @keyframes spin {\n",
              "    0% {\n",
              "      border-color: transparent;\n",
              "      border-bottom-color: var(--fill-color);\n",
              "      border-left-color: var(--fill-color);\n",
              "    }\n",
              "    20% {\n",
              "      border-color: transparent;\n",
              "      border-left-color: var(--fill-color);\n",
              "      border-top-color: var(--fill-color);\n",
              "    }\n",
              "    30% {\n",
              "      border-color: transparent;\n",
              "      border-left-color: var(--fill-color);\n",
              "      border-top-color: var(--fill-color);\n",
              "      border-right-color: var(--fill-color);\n",
              "    }\n",
              "    40% {\n",
              "      border-color: transparent;\n",
              "      border-right-color: var(--fill-color);\n",
              "      border-top-color: var(--fill-color);\n",
              "    }\n",
              "    60% {\n",
              "      border-color: transparent;\n",
              "      border-right-color: var(--fill-color);\n",
              "    }\n",
              "    80% {\n",
              "      border-color: transparent;\n",
              "      border-right-color: var(--fill-color);\n",
              "      border-bottom-color: var(--fill-color);\n",
              "    }\n",
              "    90% {\n",
              "      border-color: transparent;\n",
              "      border-bottom-color: var(--fill-color);\n",
              "    }\n",
              "  }\n",
              "</style>\n",
              "\n",
              "  <script>\n",
              "    async function quickchart(key) {\n",
              "      const quickchartButtonEl =\n",
              "        document.querySelector('#' + key + ' button');\n",
              "      quickchartButtonEl.disabled = true;  // To prevent multiple clicks.\n",
              "      quickchartButtonEl.classList.add('colab-df-spinner');\n",
              "      try {\n",
              "        const charts = await google.colab.kernel.invokeFunction(\n",
              "            'suggestCharts', [key], {});\n",
              "      } catch (error) {\n",
              "        console.error('Error during call to suggestCharts:', error);\n",
              "      }\n",
              "      quickchartButtonEl.classList.remove('colab-df-spinner');\n",
              "      quickchartButtonEl.classList.add('colab-df-quickchart-complete');\n",
              "    }\n",
              "    (() => {\n",
              "      let quickchartButtonEl =\n",
              "        document.querySelector('#df-fbc698a1-a0c5-4503-9d6d-96eae19d1e60 button');\n",
              "      quickchartButtonEl.style.display =\n",
              "        google.colab.kernel.accessAllowed ? 'block' : 'none';\n",
              "    })();\n",
              "  </script>\n",
              "</div>\n",
              "\n",
              "    </div>\n",
              "  </div>\n"
            ],
            "application/vnd.google.colaboratory.intrinsic+json": {
              "type": "dataframe",
              "variable_name": "data",
              "summary": "{\n  \"name\": \"data\",\n  \"rows\": 3309,\n  \"fields\": [\n    {\n      \"column\": \"HAEMATOCRIT\",\n      \"properties\": {\n        \"dtype\": \"number\",\n        \"std\": 5.971943270147628,\n        \"min\": 13.7,\n        \"max\": 69.0,\n        \"num_unique_values\": 314,\n        \"samples\": [\n          41.4,\n          31.3,\n          23.7\n        ],\n        \"semantic_type\": \"\",\n        \"description\": \"\"\n      }\n    },\n    {\n      \"column\": \"HAEMOGLOBINS\",\n      \"properties\": {\n        \"dtype\": \"number\",\n        \"std\": 2.0843250354494876,\n        \"min\": 3.8,\n        \"max\": 18.9,\n        \"num_unique_values\": 128,\n        \"samples\": [\n          10.5,\n          12.5,\n          13.8\n        ],\n        \"semantic_type\": \"\",\n        \"description\": \"\"\n      }\n    },\n    {\n      \"column\": \"ERYTHROCYTE\",\n      \"properties\": {\n        \"dtype\": \"number\",\n        \"std\": 0.7845097582990231,\n        \"min\": 1.48,\n        \"max\": 7.86,\n        \"num_unique_values\": 406,\n        \"samples\": [\n          3.49,\n          4.29,\n          3.1\n        ],\n        \"semantic_type\": \"\",\n        \"description\": \"\"\n      }\n    },\n    {\n      \"column\": \"LEUCOCYTE\",\n      \"properties\": {\n        \"dtype\": \"number\",\n        \"std\": 4.99129900676745,\n        \"min\": 1.1,\n        \"max\": 76.6,\n        \"num_unique_values\": 255,\n        \"samples\": [\n          17.0,\n          22.6,\n          1.9\n        ],\n        \"semantic_type\": \"\",\n        \"description\": \"\"\n      }\n    },\n    {\n      \"column\": \"THROMBOCYTE\",\n      \"properties\": {\n        \"dtype\": \"number\",\n        \"std\": 112,\n        \"min\": 10,\n        \"max\": 1121,\n        \"num_unique_values\": 525,\n        \"samples\": [\n          210,\n          53,\n          237\n        ],\n        \"semantic_type\": \"\",\n        \"description\": \"\"\n      }\n    },\n    {\n      \"column\": \"MCH\",\n      \"properties\": {\n        \"dtype\": \"number\",\n        \"std\": 2.6965198861944844,\n        \"min\": 14.9,\n        \"max\": 40.8,\n        \"num_unique_values\": 177,\n        \"samples\": [\n          27.6,\n          27.9,\n          18.9\n        ],\n        \"semantic_type\": \"\",\n        \"description\": \"\"\n      }\n    },\n    {\n      \"column\": \"MCHC\",\n      \"properties\": {\n        \"dtype\": \"number\",\n        \"std\": 1.2470554573072092,\n        \"min\": 26.0,\n        \"max\": 38.4,\n        \"num_unique_values\": 101,\n        \"samples\": [\n          30.0,\n          28.4,\n          37.3\n        ],\n        \"semantic_type\": \"\",\n        \"description\": \"\"\n      }\n    },\n    {\n      \"column\": \"MCV\",\n      \"properties\": {\n        \"dtype\": \"number\",\n        \"std\": 6.916078934650036,\n        \"min\": 54.0,\n        \"max\": 115.6,\n        \"num_unique_values\": 390,\n        \"samples\": [\n          84.3,\n          104.4,\n          97.0\n        ],\n        \"semantic_type\": \"\",\n        \"description\": \"\"\n      }\n    },\n    {\n      \"column\": \"AGE\",\n      \"properties\": {\n        \"dtype\": \"number\",\n        \"std\": 21,\n        \"min\": 1,\n        \"max\": 99,\n        \"num_unique_values\": 95,\n        \"samples\": [\n          15,\n          48,\n          10\n        ],\n        \"semantic_type\": \"\",\n        \"description\": \"\"\n      }\n    },\n    {\n      \"column\": \"SEX\",\n      \"properties\": {\n        \"dtype\": \"category\",\n        \"num_unique_values\": 2,\n        \"samples\": [\n          \"M\",\n          \"F\"\n        ],\n        \"semantic_type\": \"\",\n        \"description\": \"\"\n      }\n    },\n    {\n      \"column\": \"SOURCE\",\n      \"properties\": {\n        \"dtype\": \"number\",\n        \"std\": 0,\n        \"min\": 0,\n        \"max\": 1,\n        \"num_unique_values\": 2,\n        \"samples\": [\n          0,\n          1\n        ],\n        \"semantic_type\": \"\",\n        \"description\": \"\"\n      }\n    }\n  ]\n}"
            }
          },
          "metadata": {},
          "execution_count": 1
        }
      ],
      "source": [
        "import numpy as np\n",
        "import pandas as pd\n",
        "import matplotlib.pyplot as plt\n",
        "\n",
        "data = pd.read_csv('/content/drive/MyDrive/Datasets/treatment data.csv')\n",
        "data.head()"
      ]
    },
    {
      "cell_type": "markdown",
      "source": [
        "Hasil output kode `data.head()` ini menunjukkan data teratas dari dataset yang dimiliki. Dalam keadaan default, kode `data.head()` akan menampilkan 5 data teratas pada dataset"
      ],
      "metadata": {
        "id": "UtqXmCVhkFnx"
      }
    },
    {
      "cell_type": "markdown",
      "source": [
        "#Preprocessing and Data Split\n",
        "Pada bagian ini, kita melakukan beberapa preprocessing data untuk mempersiapkan data yang kita miliki agar siap diolah dan masuk ke model yang ingin digunakan.\n"
      ],
      "metadata": {
        "id": "g0CJmXKyk3Re"
      }
    },
    {
      "cell_type": "markdown",
      "source": [
        "1. **Import Library**:\n",
        "- `train_test_split`: Untuk membagi dataset menjadi data latih dan data uji.\n",
        "- `SVC`: Algoritma Support Vector Classifier dari Scikit-learn.\n",
        "- `StandardScaler`: Untuk standarisasi data agar memiliki rata-rata 0 dan standar deviasi 1.\n",
        "- `LabelEncoder`: Untuk mengubah data kategori menjadi numerik.\n",
        "\n",
        "2. **Definisi Variabel Input dan Output**:\n",
        "- **`X`**: Data fitur independen, yaitu kolom numerik dan kategori seperti *HAEMATOCRIT*, *HAEMOGLOBINS*, *ERYTHROCYTE*, *AGE*, dan *SEX*.\n",
        "- **`Y`**: Data target atau label yang ingin diprediksi (kolom *SOURCE*).\n",
        "\n",
        "3. **Split Dataset**:\n",
        "- `train_test_split` membagi dataset menjadi 70% data latih (`X_train`, `Y_train`) dan 30% data uji (`X_test`, `Y_test`).\n",
        "- Parameter `random_state=42` memastikan pembagian data tetap konsisten setiap kali dijalankan.\n",
        "\n",
        "4. **Encoding Data Kategori**:\n",
        "- Kolom `SEX` adalah data kategori.\n",
        "- **Latih**: `LabelEncoder.fit_transform` mengubah data kategori pada `X_train` menjadi numerik.\n",
        "- **Uji**: `LabelEncoder.transform` memastikan data uji menggunakan pola yang sama seperti data latih.\n",
        "\n",
        "5. **Standarisasi Data**:\n",
        "- **Latih**: `StandardScaler.fit_transform` menstandarisasi fitur pada `X_train` agar data memiliki skala seragam.\n",
        "- **Uji**: `StandardScaler.transform` menerapkan skala yang sama pada `X_test` untuk menjaga konsistensi.\n",
        "\n",
        "Hal ini diperuntukkan agar model bisa berjalan lebih baik karena data telah dipersiapkan berdasarkan kebutuhan algoritma model"
      ],
      "metadata": {
        "id": "yTyYDiuQk6vk"
      }
    },
    {
      "cell_type": "code",
      "source": [
        "from sklearn.model_selection import train_test_split\n",
        "from sklearn.svm import SVC\n",
        "from sklearn.preprocessing import StandardScaler, LabelEncoder\n",
        "\n",
        "X = data[['HAEMATOCRIT', 'HAEMOGLOBINS',\"ERYTHROCYTE\",\"LEUCOCYTE\",\"THROMBOCYTE\",\"MCH\",\"MCHC\",\"MCV\",\"AGE\",\"SEX\"]]\n",
        "Y = data['SOURCE']\n",
        "\n",
        "# Split data first\n",
        "X_train, X_test, Y_train, Y_test = train_test_split(X, Y, test_size=0.3, random_state=42)\n",
        "\n",
        "# Inisialisasi LabelEncoder\n",
        "le = LabelEncoder()\n",
        "# Fit and transform on the training data only to avoid data leakage\n",
        "X_train['SEX'] = le.fit_transform(X_train['SEX'])\n",
        "X_test['SEX'] = le.transform(X_test['SEX'])\n",
        "\n",
        "# Standardize\n",
        "scaler = StandardScaler()\n",
        "X_train = scaler.fit_transform(X_train)\n",
        "X_test = scaler.transform(X_test)"
      ],
      "metadata": {
        "id": "yRJ-Ai4wvJys"
      },
      "execution_count": 2,
      "outputs": []
    },
    {
      "cell_type": "markdown",
      "source": [
        "**Kernel**"
      ],
      "metadata": {
        "id": "RMCAHXGmwZ88"
      }
    },
    {
      "cell_type": "markdown",
      "source": [
        "Pada model `Support Vector Machine`, kernel yang digunakan adalah kernel `rbf`. Setelah diuji menggunakan beberapa kernel, ditemukan bahwa kernel `rbf` memiliki akurasi model yang paling tinggi"
      ],
      "metadata": {
        "id": "40Wiet1Ynsjh"
      }
    },
    {
      "cell_type": "code",
      "source": [
        "from sklearn.svm import SVC\n",
        "classifier = SVC(kernel = 'rbf', random_state = 0)\n",
        "classifier.fit(X_train, Y_train)\n",
        "\n",
        "# kernel:\n",
        "# linear = 0,716\n",
        "# poly = 0,74\n",
        "# rbf = 0,78\n",
        "# sigmoid = 0,60"
      ],
      "metadata": {
        "colab": {
          "base_uri": "https://localhost:8080/",
          "height": 80
        },
        "id": "KXbKE0Okk4e2",
        "outputId": "ace5ff36-f821-4109-fb62-6785141d5636"
      },
      "execution_count": 3,
      "outputs": [
        {
          "output_type": "execute_result",
          "data": {
            "text/plain": [
              "SVC(random_state=0)"
            ],
            "text/html": [
              "<style>#sk-container-id-1 {\n",
              "  /* Definition of color scheme common for light and dark mode */\n",
              "  --sklearn-color-text: #000;\n",
              "  --sklearn-color-text-muted: #666;\n",
              "  --sklearn-color-line: gray;\n",
              "  /* Definition of color scheme for unfitted estimators */\n",
              "  --sklearn-color-unfitted-level-0: #fff5e6;\n",
              "  --sklearn-color-unfitted-level-1: #f6e4d2;\n",
              "  --sklearn-color-unfitted-level-2: #ffe0b3;\n",
              "  --sklearn-color-unfitted-level-3: chocolate;\n",
              "  /* Definition of color scheme for fitted estimators */\n",
              "  --sklearn-color-fitted-level-0: #f0f8ff;\n",
              "  --sklearn-color-fitted-level-1: #d4ebff;\n",
              "  --sklearn-color-fitted-level-2: #b3dbfd;\n",
              "  --sklearn-color-fitted-level-3: cornflowerblue;\n",
              "\n",
              "  /* Specific color for light theme */\n",
              "  --sklearn-color-text-on-default-background: var(--sg-text-color, var(--theme-code-foreground, var(--jp-content-font-color1, black)));\n",
              "  --sklearn-color-background: var(--sg-background-color, var(--theme-background, var(--jp-layout-color0, white)));\n",
              "  --sklearn-color-border-box: var(--sg-text-color, var(--theme-code-foreground, var(--jp-content-font-color1, black)));\n",
              "  --sklearn-color-icon: #696969;\n",
              "\n",
              "  @media (prefers-color-scheme: dark) {\n",
              "    /* Redefinition of color scheme for dark theme */\n",
              "    --sklearn-color-text-on-default-background: var(--sg-text-color, var(--theme-code-foreground, var(--jp-content-font-color1, white)));\n",
              "    --sklearn-color-background: var(--sg-background-color, var(--theme-background, var(--jp-layout-color0, #111)));\n",
              "    --sklearn-color-border-box: var(--sg-text-color, var(--theme-code-foreground, var(--jp-content-font-color1, white)));\n",
              "    --sklearn-color-icon: #878787;\n",
              "  }\n",
              "}\n",
              "\n",
              "#sk-container-id-1 {\n",
              "  color: var(--sklearn-color-text);\n",
              "}\n",
              "\n",
              "#sk-container-id-1 pre {\n",
              "  padding: 0;\n",
              "}\n",
              "\n",
              "#sk-container-id-1 input.sk-hidden--visually {\n",
              "  border: 0;\n",
              "  clip: rect(1px 1px 1px 1px);\n",
              "  clip: rect(1px, 1px, 1px, 1px);\n",
              "  height: 1px;\n",
              "  margin: -1px;\n",
              "  overflow: hidden;\n",
              "  padding: 0;\n",
              "  position: absolute;\n",
              "  width: 1px;\n",
              "}\n",
              "\n",
              "#sk-container-id-1 div.sk-dashed-wrapped {\n",
              "  border: 1px dashed var(--sklearn-color-line);\n",
              "  margin: 0 0.4em 0.5em 0.4em;\n",
              "  box-sizing: border-box;\n",
              "  padding-bottom: 0.4em;\n",
              "  background-color: var(--sklearn-color-background);\n",
              "}\n",
              "\n",
              "#sk-container-id-1 div.sk-container {\n",
              "  /* jupyter's `normalize.less` sets `[hidden] { display: none; }`\n",
              "     but bootstrap.min.css set `[hidden] { display: none !important; }`\n",
              "     so we also need the `!important` here to be able to override the\n",
              "     default hidden behavior on the sphinx rendered scikit-learn.org.\n",
              "     See: https://github.com/scikit-learn/scikit-learn/issues/21755 */\n",
              "  display: inline-block !important;\n",
              "  position: relative;\n",
              "}\n",
              "\n",
              "#sk-container-id-1 div.sk-text-repr-fallback {\n",
              "  display: none;\n",
              "}\n",
              "\n",
              "div.sk-parallel-item,\n",
              "div.sk-serial,\n",
              "div.sk-item {\n",
              "  /* draw centered vertical line to link estimators */\n",
              "  background-image: linear-gradient(var(--sklearn-color-text-on-default-background), var(--sklearn-color-text-on-default-background));\n",
              "  background-size: 2px 100%;\n",
              "  background-repeat: no-repeat;\n",
              "  background-position: center center;\n",
              "}\n",
              "\n",
              "/* Parallel-specific style estimator block */\n",
              "\n",
              "#sk-container-id-1 div.sk-parallel-item::after {\n",
              "  content: \"\";\n",
              "  width: 100%;\n",
              "  border-bottom: 2px solid var(--sklearn-color-text-on-default-background);\n",
              "  flex-grow: 1;\n",
              "}\n",
              "\n",
              "#sk-container-id-1 div.sk-parallel {\n",
              "  display: flex;\n",
              "  align-items: stretch;\n",
              "  justify-content: center;\n",
              "  background-color: var(--sklearn-color-background);\n",
              "  position: relative;\n",
              "}\n",
              "\n",
              "#sk-container-id-1 div.sk-parallel-item {\n",
              "  display: flex;\n",
              "  flex-direction: column;\n",
              "}\n",
              "\n",
              "#sk-container-id-1 div.sk-parallel-item:first-child::after {\n",
              "  align-self: flex-end;\n",
              "  width: 50%;\n",
              "}\n",
              "\n",
              "#sk-container-id-1 div.sk-parallel-item:last-child::after {\n",
              "  align-self: flex-start;\n",
              "  width: 50%;\n",
              "}\n",
              "\n",
              "#sk-container-id-1 div.sk-parallel-item:only-child::after {\n",
              "  width: 0;\n",
              "}\n",
              "\n",
              "/* Serial-specific style estimator block */\n",
              "\n",
              "#sk-container-id-1 div.sk-serial {\n",
              "  display: flex;\n",
              "  flex-direction: column;\n",
              "  align-items: center;\n",
              "  background-color: var(--sklearn-color-background);\n",
              "  padding-right: 1em;\n",
              "  padding-left: 1em;\n",
              "}\n",
              "\n",
              "\n",
              "/* Toggleable style: style used for estimator/Pipeline/ColumnTransformer box that is\n",
              "clickable and can be expanded/collapsed.\n",
              "- Pipeline and ColumnTransformer use this feature and define the default style\n",
              "- Estimators will overwrite some part of the style using the `sk-estimator` class\n",
              "*/\n",
              "\n",
              "/* Pipeline and ColumnTransformer style (default) */\n",
              "\n",
              "#sk-container-id-1 div.sk-toggleable {\n",
              "  /* Default theme specific background. It is overwritten whether we have a\n",
              "  specific estimator or a Pipeline/ColumnTransformer */\n",
              "  background-color: var(--sklearn-color-background);\n",
              "}\n",
              "\n",
              "/* Toggleable label */\n",
              "#sk-container-id-1 label.sk-toggleable__label {\n",
              "  cursor: pointer;\n",
              "  display: flex;\n",
              "  width: 100%;\n",
              "  margin-bottom: 0;\n",
              "  padding: 0.5em;\n",
              "  box-sizing: border-box;\n",
              "  text-align: center;\n",
              "  align-items: start;\n",
              "  justify-content: space-between;\n",
              "  gap: 0.5em;\n",
              "}\n",
              "\n",
              "#sk-container-id-1 label.sk-toggleable__label .caption {\n",
              "  font-size: 0.6rem;\n",
              "  font-weight: lighter;\n",
              "  color: var(--sklearn-color-text-muted);\n",
              "}\n",
              "\n",
              "#sk-container-id-1 label.sk-toggleable__label-arrow:before {\n",
              "  /* Arrow on the left of the label */\n",
              "  content: \"▸\";\n",
              "  float: left;\n",
              "  margin-right: 0.25em;\n",
              "  color: var(--sklearn-color-icon);\n",
              "}\n",
              "\n",
              "#sk-container-id-1 label.sk-toggleable__label-arrow:hover:before {\n",
              "  color: var(--sklearn-color-text);\n",
              "}\n",
              "\n",
              "/* Toggleable content - dropdown */\n",
              "\n",
              "#sk-container-id-1 div.sk-toggleable__content {\n",
              "  max-height: 0;\n",
              "  max-width: 0;\n",
              "  overflow: hidden;\n",
              "  text-align: left;\n",
              "  /* unfitted */\n",
              "  background-color: var(--sklearn-color-unfitted-level-0);\n",
              "}\n",
              "\n",
              "#sk-container-id-1 div.sk-toggleable__content.fitted {\n",
              "  /* fitted */\n",
              "  background-color: var(--sklearn-color-fitted-level-0);\n",
              "}\n",
              "\n",
              "#sk-container-id-1 div.sk-toggleable__content pre {\n",
              "  margin: 0.2em;\n",
              "  border-radius: 0.25em;\n",
              "  color: var(--sklearn-color-text);\n",
              "  /* unfitted */\n",
              "  background-color: var(--sklearn-color-unfitted-level-0);\n",
              "}\n",
              "\n",
              "#sk-container-id-1 div.sk-toggleable__content.fitted pre {\n",
              "  /* unfitted */\n",
              "  background-color: var(--sklearn-color-fitted-level-0);\n",
              "}\n",
              "\n",
              "#sk-container-id-1 input.sk-toggleable__control:checked~div.sk-toggleable__content {\n",
              "  /* Expand drop-down */\n",
              "  max-height: 200px;\n",
              "  max-width: 100%;\n",
              "  overflow: auto;\n",
              "}\n",
              "\n",
              "#sk-container-id-1 input.sk-toggleable__control:checked~label.sk-toggleable__label-arrow:before {\n",
              "  content: \"▾\";\n",
              "}\n",
              "\n",
              "/* Pipeline/ColumnTransformer-specific style */\n",
              "\n",
              "#sk-container-id-1 div.sk-label input.sk-toggleable__control:checked~label.sk-toggleable__label {\n",
              "  color: var(--sklearn-color-text);\n",
              "  background-color: var(--sklearn-color-unfitted-level-2);\n",
              "}\n",
              "\n",
              "#sk-container-id-1 div.sk-label.fitted input.sk-toggleable__control:checked~label.sk-toggleable__label {\n",
              "  background-color: var(--sklearn-color-fitted-level-2);\n",
              "}\n",
              "\n",
              "/* Estimator-specific style */\n",
              "\n",
              "/* Colorize estimator box */\n",
              "#sk-container-id-1 div.sk-estimator input.sk-toggleable__control:checked~label.sk-toggleable__label {\n",
              "  /* unfitted */\n",
              "  background-color: var(--sklearn-color-unfitted-level-2);\n",
              "}\n",
              "\n",
              "#sk-container-id-1 div.sk-estimator.fitted input.sk-toggleable__control:checked~label.sk-toggleable__label {\n",
              "  /* fitted */\n",
              "  background-color: var(--sklearn-color-fitted-level-2);\n",
              "}\n",
              "\n",
              "#sk-container-id-1 div.sk-label label.sk-toggleable__label,\n",
              "#sk-container-id-1 div.sk-label label {\n",
              "  /* The background is the default theme color */\n",
              "  color: var(--sklearn-color-text-on-default-background);\n",
              "}\n",
              "\n",
              "/* On hover, darken the color of the background */\n",
              "#sk-container-id-1 div.sk-label:hover label.sk-toggleable__label {\n",
              "  color: var(--sklearn-color-text);\n",
              "  background-color: var(--sklearn-color-unfitted-level-2);\n",
              "}\n",
              "\n",
              "/* Label box, darken color on hover, fitted */\n",
              "#sk-container-id-1 div.sk-label.fitted:hover label.sk-toggleable__label.fitted {\n",
              "  color: var(--sklearn-color-text);\n",
              "  background-color: var(--sklearn-color-fitted-level-2);\n",
              "}\n",
              "\n",
              "/* Estimator label */\n",
              "\n",
              "#sk-container-id-1 div.sk-label label {\n",
              "  font-family: monospace;\n",
              "  font-weight: bold;\n",
              "  display: inline-block;\n",
              "  line-height: 1.2em;\n",
              "}\n",
              "\n",
              "#sk-container-id-1 div.sk-label-container {\n",
              "  text-align: center;\n",
              "}\n",
              "\n",
              "/* Estimator-specific */\n",
              "#sk-container-id-1 div.sk-estimator {\n",
              "  font-family: monospace;\n",
              "  border: 1px dotted var(--sklearn-color-border-box);\n",
              "  border-radius: 0.25em;\n",
              "  box-sizing: border-box;\n",
              "  margin-bottom: 0.5em;\n",
              "  /* unfitted */\n",
              "  background-color: var(--sklearn-color-unfitted-level-0);\n",
              "}\n",
              "\n",
              "#sk-container-id-1 div.sk-estimator.fitted {\n",
              "  /* fitted */\n",
              "  background-color: var(--sklearn-color-fitted-level-0);\n",
              "}\n",
              "\n",
              "/* on hover */\n",
              "#sk-container-id-1 div.sk-estimator:hover {\n",
              "  /* unfitted */\n",
              "  background-color: var(--sklearn-color-unfitted-level-2);\n",
              "}\n",
              "\n",
              "#sk-container-id-1 div.sk-estimator.fitted:hover {\n",
              "  /* fitted */\n",
              "  background-color: var(--sklearn-color-fitted-level-2);\n",
              "}\n",
              "\n",
              "/* Specification for estimator info (e.g. \"i\" and \"?\") */\n",
              "\n",
              "/* Common style for \"i\" and \"?\" */\n",
              "\n",
              ".sk-estimator-doc-link,\n",
              "a:link.sk-estimator-doc-link,\n",
              "a:visited.sk-estimator-doc-link {\n",
              "  float: right;\n",
              "  font-size: smaller;\n",
              "  line-height: 1em;\n",
              "  font-family: monospace;\n",
              "  background-color: var(--sklearn-color-background);\n",
              "  border-radius: 1em;\n",
              "  height: 1em;\n",
              "  width: 1em;\n",
              "  text-decoration: none !important;\n",
              "  margin-left: 0.5em;\n",
              "  text-align: center;\n",
              "  /* unfitted */\n",
              "  border: var(--sklearn-color-unfitted-level-1) 1pt solid;\n",
              "  color: var(--sklearn-color-unfitted-level-1);\n",
              "}\n",
              "\n",
              ".sk-estimator-doc-link.fitted,\n",
              "a:link.sk-estimator-doc-link.fitted,\n",
              "a:visited.sk-estimator-doc-link.fitted {\n",
              "  /* fitted */\n",
              "  border: var(--sklearn-color-fitted-level-1) 1pt solid;\n",
              "  color: var(--sklearn-color-fitted-level-1);\n",
              "}\n",
              "\n",
              "/* On hover */\n",
              "div.sk-estimator:hover .sk-estimator-doc-link:hover,\n",
              ".sk-estimator-doc-link:hover,\n",
              "div.sk-label-container:hover .sk-estimator-doc-link:hover,\n",
              ".sk-estimator-doc-link:hover {\n",
              "  /* unfitted */\n",
              "  background-color: var(--sklearn-color-unfitted-level-3);\n",
              "  color: var(--sklearn-color-background);\n",
              "  text-decoration: none;\n",
              "}\n",
              "\n",
              "div.sk-estimator.fitted:hover .sk-estimator-doc-link.fitted:hover,\n",
              ".sk-estimator-doc-link.fitted:hover,\n",
              "div.sk-label-container:hover .sk-estimator-doc-link.fitted:hover,\n",
              ".sk-estimator-doc-link.fitted:hover {\n",
              "  /* fitted */\n",
              "  background-color: var(--sklearn-color-fitted-level-3);\n",
              "  color: var(--sklearn-color-background);\n",
              "  text-decoration: none;\n",
              "}\n",
              "\n",
              "/* Span, style for the box shown on hovering the info icon */\n",
              ".sk-estimator-doc-link span {\n",
              "  display: none;\n",
              "  z-index: 9999;\n",
              "  position: relative;\n",
              "  font-weight: normal;\n",
              "  right: .2ex;\n",
              "  padding: .5ex;\n",
              "  margin: .5ex;\n",
              "  width: min-content;\n",
              "  min-width: 20ex;\n",
              "  max-width: 50ex;\n",
              "  color: var(--sklearn-color-text);\n",
              "  box-shadow: 2pt 2pt 4pt #999;\n",
              "  /* unfitted */\n",
              "  background: var(--sklearn-color-unfitted-level-0);\n",
              "  border: .5pt solid var(--sklearn-color-unfitted-level-3);\n",
              "}\n",
              "\n",
              ".sk-estimator-doc-link.fitted span {\n",
              "  /* fitted */\n",
              "  background: var(--sklearn-color-fitted-level-0);\n",
              "  border: var(--sklearn-color-fitted-level-3);\n",
              "}\n",
              "\n",
              ".sk-estimator-doc-link:hover span {\n",
              "  display: block;\n",
              "}\n",
              "\n",
              "/* \"?\"-specific style due to the `<a>` HTML tag */\n",
              "\n",
              "#sk-container-id-1 a.estimator_doc_link {\n",
              "  float: right;\n",
              "  font-size: 1rem;\n",
              "  line-height: 1em;\n",
              "  font-family: monospace;\n",
              "  background-color: var(--sklearn-color-background);\n",
              "  border-radius: 1rem;\n",
              "  height: 1rem;\n",
              "  width: 1rem;\n",
              "  text-decoration: none;\n",
              "  /* unfitted */\n",
              "  color: var(--sklearn-color-unfitted-level-1);\n",
              "  border: var(--sklearn-color-unfitted-level-1) 1pt solid;\n",
              "}\n",
              "\n",
              "#sk-container-id-1 a.estimator_doc_link.fitted {\n",
              "  /* fitted */\n",
              "  border: var(--sklearn-color-fitted-level-1) 1pt solid;\n",
              "  color: var(--sklearn-color-fitted-level-1);\n",
              "}\n",
              "\n",
              "/* On hover */\n",
              "#sk-container-id-1 a.estimator_doc_link:hover {\n",
              "  /* unfitted */\n",
              "  background-color: var(--sklearn-color-unfitted-level-3);\n",
              "  color: var(--sklearn-color-background);\n",
              "  text-decoration: none;\n",
              "}\n",
              "\n",
              "#sk-container-id-1 a.estimator_doc_link.fitted:hover {\n",
              "  /* fitted */\n",
              "  background-color: var(--sklearn-color-fitted-level-3);\n",
              "}\n",
              "</style><div id=\"sk-container-id-1\" class=\"sk-top-container\"><div class=\"sk-text-repr-fallback\"><pre>SVC(random_state=0)</pre><b>In a Jupyter environment, please rerun this cell to show the HTML representation or trust the notebook. <br />On GitHub, the HTML representation is unable to render, please try loading this page with nbviewer.org.</b></div><div class=\"sk-container\" hidden><div class=\"sk-item\"><div class=\"sk-estimator fitted sk-toggleable\"><input class=\"sk-toggleable__control sk-hidden--visually\" id=\"sk-estimator-id-1\" type=\"checkbox\" checked><label for=\"sk-estimator-id-1\" class=\"sk-toggleable__label fitted sk-toggleable__label-arrow\"><div><div>SVC</div></div><div><a class=\"sk-estimator-doc-link fitted\" rel=\"noreferrer\" target=\"_blank\" href=\"https://scikit-learn.org/1.6/modules/generated/sklearn.svm.SVC.html\">?<span>Documentation for SVC</span></a><span class=\"sk-estimator-doc-link fitted\">i<span>Fitted</span></span></div></label><div class=\"sk-toggleable__content fitted\"><pre>SVC(random_state=0)</pre></div> </div></div></div></div>"
            ]
          },
          "metadata": {},
          "execution_count": 3
        }
      ]
    },
    {
      "cell_type": "markdown",
      "source": [
        "#Model Evaluation with Data Training\n",
        "\n",
        "Pada bagian ini, data yang dimiliki akan dibuatkan model menggunakan data training yang telah dipisahkan sebelumnya"
      ],
      "metadata": {
        "id": "6hGzre_FmvVm"
      }
    },
    {
      "cell_type": "code",
      "source": [
        "from sklearn.metrics import confusion_matrix, accuracy_score\n",
        "\n",
        "Y_pred = classifier.predict(X_test)\n",
        "cm = confusion_matrix(Y_test, Y_pred)"
      ],
      "metadata": {
        "id": "lGAZVavOyfCA"
      },
      "execution_count": 4,
      "outputs": []
    },
    {
      "cell_type": "code",
      "source": [
        "import seaborn as sns\n",
        "f, ax = plt.subplots(figsize=(8,5))\n",
        "sns.heatmap(confusion_matrix(Y_test, Y_pred), annot=True, fmt=\".0f\", ax=ax)\n",
        "plt.xlabel(\"Y prediksi\")\n",
        "plt.ylabel(\"Y aktual\")\n",
        "plt.show()"
      ],
      "metadata": {
        "colab": {
          "base_uri": "https://localhost:8080/",
          "height": 465
        },
        "id": "XOljdHU8m85U",
        "outputId": "7968d5d2-9b4a-4ca3-b790-e27eee9c27b8"
      },
      "execution_count": 5,
      "outputs": [
        {
          "output_type": "display_data",
          "data": {
            "text/plain": [
              "<Figure size 800x500 with 2 Axes>"
            ],
            "image/png": "[encoded data removed]"
          },
          "metadata": {}
        }
      ]
    },
    {
      "cell_type": "markdown",
      "source": [
        "Diatas merupakan visualisasi dari confusion matrix yang terbentuk dengan menggunakan data test dan prediksi."
      ],
      "metadata": {
        "id": "yI75Gaj4urfd"
      }
    },
    {
      "cell_type": "markdown",
      "source": [
        "**Accuracy, Recall, Precission, and F1 Score**"
      ],
      "metadata": {
        "id": "yboNeCEEnL3c"
      }
    },
    {
      "cell_type": "markdown",
      "source": [
        "Berdasarkan confusion matrix yang didapatkan, kita selanjutnya menghitung nilai akurasi, recall, presisi, dan F1 score dari confusion matrix yang didapatkan. `Confusion Matrix` adalah alat evaluasi yang digunakan untuk menilai kinerja model klasifikasi dengan membandingkan hasil prediksi model terhadap data yang sebenarnya. Matrix ini memberikan gambaran rinci tentang prediksi model, baik yang benar maupun yang salah"
      ],
      "metadata": {
        "id": "LoNYTb22vDiO"
      }
    },
    {
      "cell_type": "code",
      "source": [
        "accuracy = accuracy_score(Y_test, Y_pred)\n",
        "recall = 222/(222+67)\n",
        "precis = 222/(222+172)\n",
        "f1 = 2*(recall*precis)/(recall+precis)\n",
        "\n",
        "print(\"Accuracy: \", accuracy)\n",
        "print(\"Recall: \", recall)\n",
        "print(\"Precis: \", precis)\n",
        "print(\"F1 Score: \", f1)"
      ],
      "metadata": {
        "colab": {
          "base_uri": "https://localhost:8080/"
        },
        "id": "HfOfj1jcnIK9",
        "outputId": "90876e1b-fed2-4c88-9a61-b5b27adc0f3e"
      },
      "execution_count": 6,
      "outputs": [
        {
          "output_type": "stream",
          "name": "stdout",
          "text": [
            "Accuracy:  0.7593152064451159\n",
            "Recall:  0.7681660899653979\n",
            "Precis:  0.5634517766497462\n",
            "F1 Score:  0.6500732064421669\n"
          ]
        }
      ]
    },
    {
      "cell_type": "markdown",
      "source": [
        "Berikut adalah penjelasan dari hasil confusion matrix:\n",
        "\n",
        "### 1. **Accuracy: 0.759**\n",
        "   - Model berhasil melakukan prediksi yang benar sekitar **75.93%** dari total prediksi yang dibuat. Meskipun accuracy memberikan gambaran umum yang baik, namun bisa menyesatkan jika data tidak seimbang (misalnya, lebih banyak kelas negatif).\n",
        "\n",
        "### 2. **Recall: 0.768**\n",
        "   - Model berhasil mendeteksi sekitar **76.82%** dari seluruh data yang benar-benar positif (yaitu, model tidak melewatkan banyak data positif). Nilai recall yang tinggi menunjukkan model cukup baik dalam menangani kelas positif, meskipun mungkin menghasilkan beberapa false positives.\n",
        "\n",
        "### 3. **Precision: 0.563**\n",
        "   - Dari seluruh prediksi yang dilakukan untuk kelas positif, hanya **56.35%** yang benar-benar positif. Artinya, model menghasilkan cukup banyak false positives (prediksi positif yang salah). Precision yang lebih rendah menunjukkan adanya ketidaktepatan dalam prediksi positif.\n",
        "\n",
        "### 4. **F1 Score: 0.650**\n",
        "   - Nilai **0.650** menunjukkan keseimbangan antara precision dan recall. F1 score yang lebih tinggi menunjukkan bahwa model memiliki performa yang baik dalam mendeteksi kelas positif tanpa menghasilkan terlalu banyak false positives. Namun, ada ruang untuk perbaikan agar mencapai performa yang lebih seimbang."
      ],
      "metadata": {
        "id": "nKCibECNv1dT"
      }
    },
    {
      "cell_type": "markdown",
      "source": [
        "#Underfitting & Overfitting\n",
        "\n",
        "Pada bagian ini, kita akan memeriksa model yang kita buat. Apakah model tersebut sudah memprediksi dengan baik atau menghasilkan hasil prediksi yang overfitting dan model yang dihasilkan tidak akan akurat jika digunakan di dataset yang lain."
      ],
      "metadata": {
        "id": "EhEb9i9OvjK7"
      }
    },
    {
      "cell_type": "code",
      "source": [
        "Y_pred_train = classifier.predict(X_train)\n",
        "Y_pred_train"
      ],
      "metadata": {
        "colab": {
          "base_uri": "https://localhost:8080/"
        },
        "id": "IuM4wGGZnuEP",
        "outputId": "097fa07b-8d95-4292-9bd3-b4ced75fb07b"
      },
      "execution_count": 7,
      "outputs": [
        {
          "output_type": "execute_result",
          "data": {
            "text/plain": [
              "array([0, 0, 0, ..., 1, 0, 0])"
            ]
          },
          "metadata": {},
          "execution_count": 7
        }
      ]
    },
    {
      "cell_type": "markdown",
      "source": [
        "Hasil Y_pred_train memungkinkan Anda mengukur seberapa baik model mengenali pola pada data pelatihan sebelum diuji pada data validasi atau data uji."
      ],
      "metadata": {
        "id": "c4tSZii9xkBX"
      }
    },
    {
      "cell_type": "code",
      "source": [
        "cm_train = confusion_matrix(Y_train, Y_pred_train)"
      ],
      "metadata": {
        "id": "cobUVf3Wn8j1"
      },
      "execution_count": 8,
      "outputs": []
    },
    {
      "cell_type": "code",
      "source": [
        "import seaborn as sns\n",
        "f, ax = plt.subplots(figsize=(8,5))\n",
        "sns.heatmap(cm_train, annot=True, fmt=\".0f\", ax=ax)\n",
        "plt.xlabel(\"y prediksi\")\n",
        "plt.ylabel(\"y aktual\")\n",
        "plt.show()"
      ],
      "metadata": {
        "colab": {
          "base_uri": "https://localhost:8080/",
          "height": 465
        },
        "id": "JQ49sqo4oJSO",
        "outputId": "76a24b2a-82e8-4209-819d-b7def22c3400"
      },
      "execution_count": 9,
      "outputs": [
        {
          "output_type": "display_data",
          "data": {
            "text/plain": [
              "<Figure size 800x500 with 2 Axes>"
            ],
            "image/png": "[encoded data removed]"
          },
          "metadata": {}
        }
      ]
    },
    {
      "cell_type": "code",
      "source": [
        "accuracy_train = accuracy_score(Y_train, Y_pred_train)\n",
        "print (\"Accuracy: \", accuracy_train)"
      ],
      "metadata": {
        "colab": {
          "base_uri": "https://localhost:8080/"
        },
        "id": "gP1jAHBNoMUJ",
        "outputId": "b957e7cf-d718-4aa7-e07c-458e1a1f5ebb"
      },
      "execution_count": 10,
      "outputs": [
        {
          "output_type": "stream",
          "name": "stdout",
          "text": [
            "Accuracy:  0.7849740932642487\n"
          ]
        }
      ]
    },
    {
      "cell_type": "markdown",
      "source": [
        "Setelah diuji menggunakan data hasil prediksi, didapati akurasi dari model sebedsar **0,784**. Hal tersebut merupakan akurasi yang cukup baik dalam memprediksi model."
      ],
      "metadata": {
        "id": "-z--Obyjxp5L"
      }
    },
    {
      "cell_type": "markdown",
      "source": [
        "**Kurva ROC**\n",
        "\n",
        "Kurva ROC (Receiver Operating Characteristic) adalah alat yang digunakan untuk mengevaluasi performa model klasifikasi, terutama dalam masalah klasifikasi biner. Kurva ini menunjukkan trade-off antara True Positive Rate (TPR) dan False Positive Rate (FPR) untuk berbagai nilai ambang batas (threshold). Kurva ini berfungsi untuk mengevaluasi performa model yang dibuat."
      ],
      "metadata": {
        "id": "-vpX74SCygbA"
      }
    },
    {
      "cell_type": "code",
      "source": [
        "from sklearn.metrics import roc_curve, auc\n",
        "from sklearn.svm import SVC\n",
        "classifier = SVC(kernel = 'rbf', random_state = 42, probability=True)\n",
        "classifier.fit(X_train, Y_train)\n",
        "Y_pred_prob = classifier.predict_proba(X_test)[:, 1]\n",
        "\n",
        "fpr, tpr, thresholds = roc_curve(Y_test, Y_pred_prob)\n",
        "roc_auc = auc(fpr, tpr)\n",
        "\n",
        "plt.figure()\n",
        "plt.plot(fpr, tpr, color='darkorange', lw=2, label='ROC curve (area = %0.2f)' % roc_auc)\n",
        "plt.plot([0, 1], [0, 1], color='navy', lw=2, linestyle='--')\n",
        "plt.xlim([0.0, 1.0])\n",
        "plt.ylim([0.0, 1.05])\n",
        "plt.xlabel('False Positive Rate')\n",
        "plt.ylabel('True Positive Rate')\n",
        "plt.title('Receiver Operating Characteristic')\n",
        "plt.legend(loc=\"lower right\")\n",
        "plt.show()"
      ],
      "metadata": {
        "colab": {
          "base_uri": "https://localhost:8080/",
          "height": 472
        },
        "id": "30vGiXVj2X85",
        "outputId": "66ba9848-f733-402d-ebd3-7b05a11a25e0"
      },
      "execution_count": 11,
      "outputs": [
        {
          "output_type": "display_data",
          "data": {
            "text/plain": [
              "<Figure size 640x480 with 1 Axes>"
            ],
            "image/png": "[encoded data removed]"
          },
          "metadata": {}
        }
      ]
    },
    {
      "cell_type": "markdown",
      "source": [
        "Kurva ROC yang dihasilkan menunjukkan bahwa model klasifikasi memiliki kemampuan yang cukup baik dalam membedakan antara kelas positif dan negatif, dengan nilai **Area Under the Curve (AUC)** sebesar **0.80**. Hal ini menunjukkan bahwa model dapat mengidentifikasi kelas dengan akurasi yang lebih tinggi dibandingkan dengan tebak-tebakan acak, yang ditunjukkan oleh garis diagonal biru (AUC = 0.5). Kurva ROC mendekati sudut kiri atas, yang mengindikasikan bahwa model mampu mempertahankan tingkat **True Positive Rate (TPR)** yang tinggi sambil menjaga **False Positive Rate (FPR)** tetap rendah pada beberapa ambang batas. Meskipun performanya sudah baik, model masih dapat ditingkatkan dengan optimasi hyperparameter, peningkatan kualitas atau kuantitas data pelatihan, atau penanganan khusus pada data tidak seimbang jika diperlukan."
      ],
      "metadata": {
        "id": "dpZdVyT6zKkq"
      }
    },
    {
      "cell_type": "markdown",
      "source": [
        "#Kesimpulan\n",
        "\n",
        "Berdasarkan hasil analisis model yang dibuat, terlihat bahwa model yang dibuat sudah cukup baik dalam meprediksi. Namun, model masih bisa ditingkatkan dengan memperhatikan data yang digunakan. Diketahui data memiliki distribusi yang tidak normal dan hal tersebut bisa mempengaruhi kinerja model yang dibuat."
      ],
      "metadata": {
        "id": "_kB15_Kf260c"
      }
    }
  ]
}