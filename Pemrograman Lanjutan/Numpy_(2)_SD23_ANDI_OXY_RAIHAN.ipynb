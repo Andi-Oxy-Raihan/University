{
  "nbformat": 4,
  "nbformat_minor": 0,
  "metadata": {
    "colab": {
      "provenance": []
    },
    "kernelspec": {
      "name": "python3",
      "display_name": "Python 3"
    },
    "language_info": {
      "name": "python"
    }
  },
  "cells": [
    {
      "cell_type": "markdown",
      "source": [
        "#Pengenalan NumPy\n",
        "-----------------"
      ],
      "metadata": {
        "id": "bHvIrOR5teFE"
      }
    },
    {
      "cell_type": "code",
      "execution_count": null,
      "metadata": {
        "id": "myYwj46RsyZQ"
      },
      "outputs": [],
      "source": [
        "# Nama: Andi Oxy Raihan Machikami Rahman\n",
        "# Nim: 231061006\n",
        "# Prodi: Sains Data\n",
        "# Institut Teknologi Bacharuddin Jusuf Habibie"
      ]
    },
    {
      "cell_type": "markdown",
      "source": [
        "#Definisi NumPy\n",
        "-------------------\n",
        "NumPy (Numerical Python) adalah pustaka Python sumber terbuka yang digunakan di hampir semua bidang sains dan\n",
        "teknik. Ini adalah standar universal untuk bekerja dengan data numerik dengan Python, dan merupakan inti dari\n",
        "ekosistem ilmiah Python dan PyData. Pengguna NumPy mencakup semua orang mulai dari pembuat kode pemula\n",
        "hingga peneliti berpengalaman yang melakukan penelitian dan pengembangan ilmiah dan industri mutakhir. NumPy API\n",
        "digunakan secara luas di Pandas, SciPy, Matplotlib, scikit-learn, scikit-image dan sebagian besar paket sains data dan\n",
        "Python ilmiah lainnya.\n",
        "atau\n",
        "pip instal numpy\n",
        "matriks.\n",
        "Pustaka NumPy berisi struktur data array dan matriks multidimensi (Anda akan menemukan informasi lebih lanjut tentang\n",
        "ini di bagian selanjutnya). Ini menyediakan ndarray, objek array n-dimensi yang homogen, dengan metode untuk\n",
        "mengoperasikannya secara efisien. NumPy dapat digunakan untuk melakukan berbagai macam operasi matematika\n",
        "pada array. Ini menambahkan struktur data yang kuat ke Python yang menjamin perhitungan efisien dengan array dan matriks\n",
        "dan menyediakan perpustakaan besar fungsi matematika tingkat tinggi yang beroperasi pada array dan matriks ini.\n"
      ],
      "metadata": {
        "id": "POAdDPSEtrLQ"
      }
    },
    {
      "cell_type": "markdown",
      "source": [
        "#Impor NumPy\n",
        "-------------\n",
        "\n",
        "NumPy di impor menggunakan kode \"Import numpy as np\" yang dimana kita menginisiasikan \"NumPy\" menjadi \"np\""
      ],
      "metadata": {
        "id": "povLiAIyt9Rr"
      }
    },
    {
      "cell_type": "code",
      "source": [
        "import numpy as np"
      ],
      "metadata": {
        "id": "B3TOf0tv9yT3"
      },
      "execution_count": null,
      "outputs": []
    },
    {
      "cell_type": "code",
      "source": [
        "# Contoh Kode NumPy\n",
        "a = np.arange(6)\n",
        "print (a)\n",
        "\n",
        "a2 = a[np.newaxis, :]\n",
        "print (a2)"
      ],
      "metadata": {
        "id": "acP5r9sGuQTs"
      },
      "execution_count": null,
      "outputs": []
    },
    {
      "cell_type": "markdown",
      "source": [
        "#Perbedaan Daftar Phyton dan Array NumPy\n",
        "-------------------------------------------\n",
        "NumPy memberi Anda beragam cara cepat dan efisien untuk membuat array dan memanipulasi data numerik di\n",
        "dalamnya. Meskipun daftar Python dapat berisi tipe data yang berbeda dalam satu daftar, semua elemen dalam array NumPy\n",
        "harus homogen. Operasi matematika yang dimaksudkan untuk dilakukan pada array akan sangat tidak efisien jika\n",
        "array tidak ada. tidak homogen.\n"
      ],
      "metadata": {
        "id": "nh6VxE9kwZh6"
      }
    },
    {
      "cell_type": "code",
      "source": [
        "#Contoh Array Numpy\n",
        "a = np.array([1, 2, 3, 4, 5, 6])\n",
        "a2 = np.array([[1, 2, 3, 4], [5, 6, 7, 8], [9, 10, 11, 12]])\n",
        "print (a)\n",
        "print (a2)\n",
        "\n",
        "#Contoh Akses Elemen Pada Urutan Tertentu\n",
        "print (a[3])"
      ],
      "metadata": {
        "id": "lcmJxe3kwm2P"
      },
      "execution_count": null,
      "outputs": []
    },
    {
      "cell_type": "markdown",
      "source": [
        "#Membuat Array Dasar\n",
        "--------------------\n",
        "Bagian ini mencakup `np.array()`, `np.zeros()`, `np.ones()`, `np.empty()`, `np.arange()`, `np.linspace()`, `dtype()`\n"
      ],
      "metadata": {
        "id": "bObasVPiyIro"
      }
    },
    {
      "cell_type": "code",
      "source": [
        "a = np.array([1, 2, 3])\n",
        "print (a)\n",
        "\n",
        "#Array Berisi Nol (0)\n",
        "np.zeros(4)\n",
        "\n",
        "#Array Berisi Satu (1)\n",
        "np.ones(3)\n",
        "\n",
        "#Array Kosong ()\n",
        "np.empty(2)\n",
        "\n",
        "#Array Berbagai Elemen\n",
        "np.arange(4)\n",
        "\n",
        "#Array Dengan Interval Yang Sama\n",
        "np.arange(2, 9, 2)\n",
        "\n",
        "#Array Dengan Interval Tertentu\n",
        "np.linspace(0, 10, num=5)\n",
        "\n",
        "#Menentukan Tipe Data\n",
        "x = np.ones(2, dtype=np.int64)\n",
        "x"
      ],
      "metadata": {
        "id": "HldMYe-5yPb6"
      },
      "execution_count": null,
      "outputs": []
    },
    {
      "cell_type": "markdown",
      "source": [
        "#Menambah, Menghapus, dan Mengurutkan Elemen\n",
        "--------------------------------------------\n",
        "Bagian ini mencakup `np.sort()`, `np.concatenate()`, `ndarray.ndim`, `ndarray.size`, `ndarray.shape`\n",
        "\n"
      ],
      "metadata": {
        "id": "m4Cnz3I_0WnT"
      }
    },
    {
      "cell_type": "code",
      "source": [
        "#np.sort untuk Mengurutkan Elemen\n",
        "arr = np.array([2, 1, 5, 3, 7, 4, 6, 8, 10, 9, 11])\n",
        "np.sort(arr)\n",
        "\n",
        "#np.concatenate untuk menggabungkan Array\n",
        "a = np.array([1, 2, 3, 4])\n",
        "b = np.array([5, 6, 7, 8])\n",
        "np.concatenate((a, b))\n",
        "\n",
        "x = np.array([[1, 2], [3, 4]])\n",
        "y = np.array([[5, 6]])\n",
        "np.concatenate((x, y), axis=0)\n",
        "\n",
        "#Mencari Dimensi Array\n",
        "contoh_array = np.array([[[0,1,2,3],\n",
        "                          [4,5,6,7]],\n",
        "                         [[0,1,2,3],\n",
        "                          [4,5,6,7]],\n",
        "                         [[0,1,2,3],\n",
        "                          [4,5,6,7]]])\n",
        "contoh_array.ndim\n",
        "\n",
        "#Mencari Total Elemen Array\n",
        "contoh_array.size\n",
        "\n",
        "#Mencari Bentuk Array\n",
        "contoh_array.shape"
      ],
      "metadata": {
        "id": "IROmvKj01NiV"
      },
      "execution_count": null,
      "outputs": []
    },
    {
      "cell_type": "markdown",
      "source": [
        "#Mengubah Bentuk Array\n",
        "-----------------------\n",
        "Bagian ini mencakup `arr.reshape()`\n",
        "\n",
        "Menggunakan arr.reshape() akan memberikan bentuk baru pada array tanpa mengubah\n",
        "datanya. Ingatlah bahwa ketika Anda menggunakan metode reshape, array yang ingin Anda\n",
        "hasilkan harus memiliki jumlah elemen yang sama dengan array aslinya. Jika Anda memulai\n",
        "dengan array dengan 12 elemen, Anda harus memastikan bahwa array baru Anda juga memiliki total 12 elemen\n",
        "\n",
        "\n",
        "kemudian Array juga bisa diubah dari bentuk 1D menjadi 2D\n",
        "Bagian ini mencakup `np.newaxis`, `np.expand_dims`"
      ],
      "metadata": {
        "id": "7pyJYmF350BI"
      }
    },
    {
      "cell_type": "code",
      "source": [
        "#Mengubah Bentuk Array\n",
        "a = np.arange(6)\n",
        "print (a)\n",
        "\n",
        "b = a.reshape(3,2)\n",
        "print (b)"
      ],
      "metadata": {
        "id": "qqZDGEVK6ASv"
      },
      "execution_count": null,
      "outputs": []
    },
    {
      "cell_type": "code",
      "source": [
        "#Mengubah Array 1D menjadi array 2D\n",
        "a = np.array([1, 2, 3, 4, 5, 6])\n",
        "\n",
        "#np,newaxis untuk menambah sumbu baru\n",
        "a2 = a[np.newaxis, :]\n",
        "a2.shape\n",
        "\n",
        "vektor_baris = a[np.newaxis, :]\n",
        "vektor_baris.shape\n",
        "\n",
        "col_vector = a[:, np.newaxis]\n",
        "col_vector.shape"
      ],
      "metadata": {
        "id": "V3CRzJrr93Mw"
      },
      "execution_count": null,
      "outputs": []
    },
    {
      "cell_type": "code",
      "source": [
        "#Memperluas Array dengan menambahkan sumbu baru\n",
        "a = np.array([1, 2, 3, 4, 5, 6])\n",
        "a.shape\n",
        "\n",
        "#menambahkan pada posisi indeks 1\n",
        "b = np.expand_dims(a, axis=1)\n",
        "b.shape\n",
        "\n",
        "#menambah pada posisi indeks 0\n",
        "c = np.expand_dims(a, axis=0)\n",
        "c.shape"
      ],
      "metadata": {
        "id": "KgLSB31M9-ek"
      },
      "execution_count": null,
      "outputs": []
    },
    {
      "cell_type": "markdown",
      "source": [
        "#Mengindeks dan Mengiris\n",
        "--------------------------\n",
        "\n",
        "Anda dapat mengindeks dan mengiris array NumPy dengan cara yang sama seperti Anda mengiris daftar Python.\n"
      ],
      "metadata": {
        "id": "5bXZWyOp-gvu"
      }
    },
    {
      "cell_type": "code",
      "source": [
        "#Mengindeks data\n",
        "data = np.array([1, 2, 3])\n",
        "print(data[1])\n",
        "\n",
        "#indeks dari jarak tertentu\n",
        "print(data[0:2])\n",
        "print(data[1:])\n",
        "print(data[-2:])\n",
        "\n",
        "#Akses indeks dengan kondisi tertentu\n",
        "a = np.array([[1 , 2, 3, 4], [5, 6, 7, 8], [9, 10, 11, 12]])\n",
        "\n",
        "lima_up = (a >= 5)\n",
        "print (a[lima_up])\n",
        "\n",
        "habis_bagi_2 = a[a%2==0]\n",
        "print (habis_bagi_2)\n",
        "\n",
        "#Operator &\n",
        "c = a[(a > 2) & (a < 11)]\n",
        "print (c)\n",
        "\n",
        "#Operator |\n",
        "lima_up_2 = (a > 5) | (a == 5)\n",
        "print (lima_up_2)\n",
        "\n",
        "#Menggunakan np.nonzero() untu memilih indeks array\n",
        "a = np.array([[1, 2, 3, 4], [5, 6, 7, 8], [9, 10, 11, 12]])\n",
        "\n",
        "b = np.nonzero (a < 5)\n",
        "print (b)"
      ],
      "metadata": {
        "id": "xz2AUCeE-nrV"
      },
      "execution_count": null,
      "outputs": []
    },
    {
      "cell_type": "code",
      "source": [
        "#Jika Anda ingin membuat daftar koordinat tempat elemen berada,\n",
        "#Anda dapat meng-zip array, mengulangi daftar koordinat, dan mencetaknya.\n",
        "#Misalnya:\n",
        "\n",
        "daftar_koordinat = list(zip(b[0], b[1]))\n",
        "for koordinat in daftar_koordinat:\n",
        "  print(koordinat)\n",
        "\n",
        "print (a[b])\n",
        "\n",
        "# np.nonzero() untuk mencetak elemen dalam array yang kurang dari 5\n",
        "not_there = np.nonzero(a == 42)\n",
        "print(not_there)"
      ],
      "metadata": {
        "id": "7dyiS4eQMlA4"
      },
      "execution_count": null,
      "outputs": []
    },
    {
      "cell_type": "markdown",
      "source": [
        "#Membuat Array Dari Data Yang Ada\n",
        "---------------------------------\n",
        "\n",
        "Bagian ini mencakup pemotongan dan pengindeksan, `np.vstack()`, `np.hstack()`, `np.hsplit()`, `view()`, `copy()`\n"
      ],
      "metadata": {
        "id": "F3msUSeDM-iX"
      }
    },
    {
      "cell_type": "code",
      "source": [
        "a = np.array([1, 2, 3, 4, 5, 6, 7, 8, 9, 10])\n",
        "\n",
        "#Indeks Posisi indeks 3 hingga indeks 8\n",
        "arr1 = a[3:8]\n",
        "print (arr1)\n",
        "\n",
        "#Menumpuk 2 Array\n",
        "a1 = np.array([[1, 1], [2, 2]])\n",
        "a2 = np.array([[3, 3], [4, 4]])\n",
        "\n",
        "#np.vstack untu menumpuk array secara vertikal\n",
        "vertikal = np.vstack((a1, a2))\n",
        "print (vertikal)\n",
        "\n",
        "#np.vstack untu menumpuk array secara horizontal\n",
        "horizontal = np.hstack((a1, a2))\n",
        "print (horizontal)\n",
        "\n",
        "#Membagi Array\n",
        "x = np.arange(1, 25).reshape(2, 12)\n",
        "print(x)\n",
        "\n",
        "#membagi jadi 3\n",
        "print (np.hsplit(x, 3))\n",
        "\n",
        "#membagi array setelah kolom ketiga dan keempat\n",
        "print (np.hsplit(x, (3, 4)))"
      ],
      "metadata": {
        "id": "00IkajZ8N9yY"
      },
      "execution_count": null,
      "outputs": []
    },
    {
      "cell_type": "code",
      "source": [
        "#menggunakan metode view untuk membuat objek array baru yang\n",
        "#terlihat pada data yang sama dengan array asli ( salinan dangkal).\n",
        "\n",
        "a = np.array([[1, 2, 3, 4], [5, 6, 7, 8], [9, 10, 11, 12]])\n",
        "\n",
        "#Sekarang kita membuat array b1 dengan mengiris a dan\n",
        "#memodifikasi elemen pertama b1\n",
        "b1 = a[0, :]\n",
        "\n",
        "b1[0] = 99\n",
        "print(b1)\n",
        "\n",
        "#Menggunaka Metode Copy()\n",
        "b2 = a.copy()\n",
        "print (b2)"
      ],
      "metadata": {
        "id": "KSbJUyLMRAE2"
      },
      "execution_count": null,
      "outputs": []
    },
    {
      "cell_type": "markdown",
      "source": [
        "#Operasi Array Dasar\n",
        "---------------------\n",
        "\n",
        "Bagian ini mencakup operasi `Penjumlahan`, `Pengurangan`, `Perkalian`, `Pembagian`, dan lainnya."
      ],
      "metadata": {
        "id": "jxRxN6XbR7VB"
      }
    },
    {
      "cell_type": "code",
      "source": [
        "data = np.array([1,2])\n",
        "print (data)\n",
        "ones = np.ones(2,dtype = int)\n",
        "print (ones)\n",
        "\n",
        "#Operasi Penjumlahan\n",
        "print (data+ones)\n",
        "\n",
        "#Operasi Pengurangan\n",
        "print (data- ones)\n",
        "\n",
        "#Operasi Perkalian\n",
        "print (data*data)\n",
        "\n",
        "#Operasi Pembagian\n",
        "print (data/data)"
      ],
      "metadata": {
        "id": "sfKSYQFkSc_1"
      },
      "execution_count": null,
      "outputs": []
    },
    {
      "cell_type": "code",
      "source": [
        "#Operasi sum()\n",
        "a = np.array([1, 2, 3, 4])\n",
        "print (a.sum())\n",
        "\n",
        "#Operasi sum() pada array 2D\n",
        "b = np.array([[1, 1], [2, 2]])\n",
        "b.sum(axis=0)\n",
        "\n",
        "#Menambah Sumbu\n",
        "b.sum(axis=1)"
      ],
      "metadata": {
        "id": "_nUnIo0LTh_4"
      },
      "execution_count": null,
      "outputs": []
    },
    {
      "cell_type": "markdown",
      "source": [
        "#Penyiaran\n",
        "--------------\n",
        "\n",
        "Ada kalanya Anda mungkin ingin melakukan operasi antara array dan satu bilangan (disebut juga operasi antara vektor\n",
        "dan skalar) atau antara array dengan dua ukuran berbeda. Misalnya, array Anda (kita akan sebut saja \"data\")\n",
        "mungkin berisi informasi tentang jarak dalam mil tetapi Anda ingin mengonversi informasi tersebut menjadi kilometer.\n",
        "Anda dapat melakukan operasi ini dengan\n",
        "\n",
        "NumPy memahami bahwa perkalian harus terjadi pada setiap sel. Konsep itu disebut penyiaran. Penyiaran adalah\n",
        "mekanisme yang memungkinkan NumPy melakukan operasi pada array dengan bentuk berbeda. Dimensi array Anda\n",
        "harus kompatibel, misalnya, ketika dimensi kedua array sama atau ketika salah satunya adalah 1. Jika dimensinya sama\n",
        "tidak kompatibel, Anda akan mendapatkan ValueError."
      ],
      "metadata": {
        "id": "1zJxCV46WIFi"
      }
    },
    {
      "cell_type": "code",
      "source": [
        "data = np.array([1.0, 2.0])\n",
        "data*1.6"
      ],
      "metadata": {
        "id": "ifvb0nkLWPfT"
      },
      "execution_count": null,
      "outputs": []
    },
    {
      "cell_type": "markdown",
      "source": [
        "#Operasi Array Yang Juga Berguna\n",
        "-----------------------------\n",
        "\n",
        "Bagian ini mencakup `maksimum`, `minimum`, `jumlah`, `mean`, `produk`, `deviasi standar`, dan banyak lagi\n",
        "\n",
        "NumPy juga melakukan fungsi agregasi. Selain min, max, dan sum, Anda dapat dengan mudah menjalankan\n",
        "mean untuk mendapatkan rata-rata, prod untuk mendapatkan hasil perkalian elemen, std untuk mendapatkan\n",
        "standar deviasi, dan banyak lagi.\n"
      ],
      "metadata": {
        "id": "sWseXafiY2QE"
      }
    },
    {
      "cell_type": "code",
      "source": [
        "data = np.array([1.0, 2.0])\n",
        "print(data.max())\n",
        "print(data.min())\n",
        "\n",
        "#Contoh Lain\n",
        "a = np.array([[0,45053314, 0,17296777, 0,34376245, 0,5510652],\n",
        "              [0,54627315, 0,05093587, 0,40067661, 0,55645993],\n",
        "              [0,12697628, 0,8 2485143, 0,26590556, 0,56917101]]\n",
        "\n",
        "#Jumlah\n",
        "print(a.sum())\n",
        "\n",
        "#nilai min\n",
        "print (a.min())\n",
        "\n",
        "#Menghitung pada sumbu tertentu\n",
        "print (a.min(sumbu=0))"
      ],
      "metadata": {
        "id": "eJ_sAYKxZLot"
      },
      "execution_count": null,
      "outputs": []
    },
    {
      "cell_type": "markdown",
      "source": [
        "#Membuat Matriks\n",
        "------------------"
      ],
      "metadata": {
        "id": "x9zgDPGzavNY"
      }
    },
    {
      "cell_type": "code",
      "source": [
        "data = np.array([[1, 2], [3, 4], [5, 6]])\n",
        "print (data)\n",
        "\n",
        "#Operasi pengindeksan dan pemotongan berguna saat Anda memanipulasi matriks:\n",
        "print (data[0, 1])\n",
        "print (data[1:3])\n",
        "print (data[0:2, 0])\n",
        "\n",
        "#Operasi Matriks\n",
        "data.max()\n",
        "data.min()\n",
        "data.sum()\n",
        "\n",
        "#Operasi dengan sumbu\n",
        "data = np.array([[1, 2], [5, 3], [4, 6]])\n",
        "print (data)\n",
        "\n",
        "data.max (axis=0)\n",
        "\n",
        "data.max (axis=1)\n",
        "\n",
        "#Operator Aritmatika\n",
        "data = np.array([[1, 2], [3, 4]])\n",
        "satuan = np.array([[1, 1], [1, 1]])\n",
        "print ( data + satuan)\n",
        "\n",
        "#Operasi dengan ukuran matriks berbeda\n",
        "data = np.array([[1, 2], [3, 4], [5, 6]])\n",
        "baris_satuan = np.array([[1, 1]])\n",
        "print (data + baris_satuan)\n",
        "\n",
        "#Operasi berdimensi N\n",
        "np.ones((4, 3, 2))"
      ],
      "metadata": {
        "id": "GeO9cCK7a4Of"
      },
      "execution_count": null,
      "outputs": []
    },
    {
      "cell_type": "code",
      "source": [
        "#Fungsi satu() dan nol()\n",
        "print(np.ones(3))\n",
        "print(np.zeros(3))\n",
        "\n",
        "# Fungsi random.Generator\n",
        "rng = np.random.default_rng()\n",
        "print (rng.random(3))\n",
        "\n",
        "#Anda juga dapat menggunakan one(}, zeros(), dan random()untuk membuat array\n",
        "#2D jika Anda memberinya tupel yang menjelaskan dimensi matriks:\n",
        "print(np.ones((3, 2)))\n",
        "print(np.zeros((3 , 2)))\n",
        "print(rng.random((3, 2)) )"
      ],
      "metadata": {
        "id": "zkxU6twidAD8"
      },
      "execution_count": null,
      "outputs": []
    },
    {
      "cell_type": "markdown",
      "source": [
        "#Menghasilkan Angka Acak\n",
        "------------------------\n",
        "Penggunaan pembangkitan angka acak merupakan bagian penting dari konfigurasi dan evaluasi banyak\n",
        "algoritma numerik dan pembelajaran mesin. Baik Anda perlu menginisialisasi bobot secara acak dalam jaringan\n",
        "saraf tiruan, membagi data menjadi kumpulan acak, atau menutup kumpulan data Anda secara acak, kemampuan\n",
        "untuk menghasilkan angka acak (sebenarnya, angka acak semu yang dapat diulang) sangatlah penting.\n",
        "\n",
        "Dengan Generator.integers, Anda dapat menghasilkan bilangan bulat acak dari rendah (ingat bahwa ini inklusif\n",
        "dengan NumPy) hingga tinggi (eksklusif). Anda dapat mengatur endpoint=True untuk mencapai nilai tertinggi\n",
        "Misalnya, jika Anda memulai dengan array ini.\n",
        "\n",
        "Bagian ini mencakup `np.unique()`"
      ],
      "metadata": {
        "id": "OsL5Er2AexE9"
      }
    },
    {
      "cell_type": "code",
      "source": [
        "rng.integers(5, size=(2, 4))\n",
        "\n",
        "#Mendapatkan Item unik dan terhitung\n",
        "#np.unique()\n",
        "a = np.array([11, 11, 12, 13, 14, 15, 16, 17, 12, 13, 11, 14, 18, 19, 20])\n",
        "\n",
        "nilai_unik = np.unique(a)\n",
        "print (nilai_unik)"
      ],
      "metadata": {
        "id": "mbh71etIfO6T"
      },
      "execution_count": null,
      "outputs": []
    },
    {
      "cell_type": "markdown",
      "source": [
        "Untuk mendapatkan indeks nilai unik dalam array NumPy (array dengan posisi indeks pertama dari nilai\n",
        "unik dalam array), cukup teruskan argumen return_index di np.unique()"
      ],
      "metadata": {
        "id": "rr-8BQvqf7md"
      }
    },
    {
      "cell_type": "code",
      "source": [
        "nilai_unik, daftar_indeks = np.unique(a, return_index=True)\n",
        "print(daftar_indeks)"
      ],
      "metadata": {
        "id": "_El1Fz-FgBRW"
      },
      "execution_count": null,
      "outputs": []
    },
    {
      "cell_type": "markdown",
      "source": [
        "Anda dapat meneruskan argumen return_counts di `np.unique()` bersama dengan array Anda untuk mendapatkan\n",
        "jumlah frekuensi nilai unik dalam array NumPy.\n"
      ],
      "metadata": {
        "id": "k26KpAJ9gUKz"
      }
    },
    {
      "cell_type": "code",
      "source": [
        "a = np.array([1, 2, 3, 4, 3, 2, 1])\n",
        "nilai_unik, jumlah_kejadian = np.unique(a, return_counts=True)\n",
        "print(jumlah_kejadian)\n",
        "\n",
        "a_2d = np.array([[1, 2, 3, 4], [5, 6, 7, 8], [9, 10, 11, 12], [1, 2, 3, 4]])\n",
        "nilai_unik = np.unique(a_2d)\n",
        "print(nilai_unik)\n",
        "\n",
        "# Menggunakan sumbu axis\n",
        "baris_unik = np.unique(a_2d, axis=0)  # Menggunakan 'axis=0' untuk menggabungkan berdasarkan baris\n",
        "print(baris_unik)\n",
        "\n",
        "# Menggunakan sumbu axis dengan return_index dan return_counts\n",
        "baris_unik, indeks, jumlah_kejadian = np.unique(\n",
        "    a_2d, axis=0, return_counts=True, return_index=True)\n",
        "print(baris_unik)\n",
        "print(indeks)\n",
        "print(jumlah_kejadian)\n"
      ],
      "metadata": {
        "id": "ucqMzCWJgaPs"
      },
      "execution_count": null,
      "outputs": []
    },
    {
      "cell_type": "markdown",
      "source": [
        "#Menguah Urutan dan Membentuk Kembali Matriks\n",
        "-------------------------------------\n",
        "\n",
        "Bagian ini mencakup `arr.reshape()`, `arr.transpose()`, `arr.T`\n",
        "\n"
      ],
      "metadata": {
        "id": "lQApXZnZrTow"
      }
    },
    {
      "cell_type": "code",
      "source": [
        "#Mengubah Bentuk\n",
        "data = np.array([[1],[2],[3],[4],[5],[6]])\n",
        "\n",
        "print(data.reshape(2,3))\n",
        "print(data.reshape(3,2))\n",
        "\n",
        "#Transpose\n",
        "arr = np.arange(6).reshape((2, 3))\n",
        "print (arr)\n",
        "\n",
        "print(\"arr Transpose \\n\", arr.transpose())\n",
        "\n",
        "#menggunakan Metode \"T\"\n",
        "print(arr.T)"
      ],
      "metadata": {
        "id": "qSHRnFCtrg6L"
      },
      "execution_count": null,
      "outputs": []
    },
    {
      "cell_type": "markdown",
      "source": [
        "#Cara Membalikkan Array\n",
        "----------------------------\n",
        "\n",
        "Bagian ini mencakup `np.flip()`\n",
        "\n",
        "Fungsi `np.flip()` NumPy memungkinkan Anda membalik, atau membalikkan, konten array sepanjang sumbu. Saat\n",
        "menggunakan `np.flip()`, tentukan array yang ingin Anda balikkan dan sumbunya. Jika Anda tidak menentukan\n",
        "sumbunya, NumPy akan membalikkan konten di sepanjang sumbu larik masukan Anda\n"
      ],
      "metadata": {
        "id": "md011ke6taqr"
      }
    },
    {
      "cell_type": "code",
      "source": [
        "#Mengembalikan Array 1D\n",
        "arr = np.array([1, 2, 3, 4, 5, 6, 7, 8])\n",
        "reversed_arr = np.flip(arr)\n",
        "print (reversed_arr)\n",
        "\n",
        "#Mengembalikan Array 2D\n",
        "arr_2d = np.array([[1, 2, 3, 4], [5, 6, 7, 8], [9, 10, 11, 12]])\n",
        "reversed_arr2 = np.flip(arr_2d)\n",
        "\n",
        "#Membalikkan Baris\n",
        "reversed_arr_rows = np.flip(arr_2d, axis=0)\n",
        "print (reversed_arr_rows)\n",
        "\n",
        "#Membalikkan kolom\n",
        "kolom_arr_terbalik = np.flip(arr_2d, axis=1)\n",
        "print(kolom_arr_terbalik)\n",
        "\n",
        "#Membalikkan Baris/Kolom pada indeks tertentu\n",
        "arr_2d[1] = np.flip(arr_2d[1])\n",
        "print(arr_2d[1])\n",
        "\n",
        "arr_2d[:,1] = np.flip(arr_2d[:,1])\n",
        "print(arr_2d[:,1])"
      ],
      "metadata": {
        "id": "B-NwdbKwtqDG"
      },
      "execution_count": null,
      "outputs": []
    },
    {
      "cell_type": "markdown",
      "source": [
        "#Membentuk Kembali dan Meratakan Array MUltidimensi\n",
        "--------------------------------------\n",
        "\n",
        "Bagian ini mencakup `.flatten()`, `ravel()`\n",
        "\n",
        "Ada dua cara populer untuk meratakan array: `.flatten()` dan `.ravel()`. Perbedaan utama antara\n",
        "keduanya adalah bahwa array baru yang dibuat menggunakan `ravel()` sebenarnya adalah\n",
        "referensi ke array induk (yaitu, “tampilan”). Ini berarti bahwa setiap perubahan pada array baru akan\n",
        "mempengaruhi induknya. susunan juga. Karena ravel tidak membuat salinan, memorinya efisien.\n"
      ],
      "metadata": {
        "id": "3FXribLTvmlB"
      }
    },
    {
      "cell_type": "code",
      "source": [
        "x = np.array([[1 , 2, 3, 4], [5, 6, 7, 8], [9, 10, 11, 12]])\n",
        "\n",
        "#Flatten: meratakan menjadi array 1D\n",
        "x.flatten()\n",
        "\n",
        "#Saat Anda menggunakan flatten, Array induk tidak terpengaruh.\n",
        "a1 = x.flatten() #Array Induk\n",
        "a1[0] = 99\n",
        "print (x)\n",
        "\n",
        "print(a1) #Array Baru\n",
        "\n",
        "#Saat menggunakan ravel, Array Induk Terpengaruh\n",
        "a2 = x.ravel() #Array Asli\n",
        "a2[0] = 98\n",
        "print(x)\n",
        "\n",
        "print(a2)#Array Baru"
      ],
      "metadata": {
        "id": "-zg66wkRwEYj"
      },
      "execution_count": null,
      "outputs": []
    },
    {
      "cell_type": "markdown",
      "source": [
        "#Cara Mengakses \"Docstring\" untuk informasi lebih lanjut\n",
        "----------------------------------\n",
        "\n",
        "Bagian ini mencakup `help()`, `?`, `??`\n",
        "\n",
        "Jika berbicara tentang ekosistem ilmu data, Python dan NumPy dibuat dengan mempertimbangkan pengguna. Salah\n",
        "satu contoh terbaiknya adalah akses bawaan ke dokumentasi. Setiap objek berisi referensi ke sebuah string, yang\n",
        "dikenal sebagai docstring. Dalam kebanyakan kasus, docstring ini berisi ringkasan cepat dan ringkas tentang\n",
        "objek dan cara menggunakannya. Python memiliki fungsi help() bawaan yang dapat membantu Anda mengakses\n",
        "informasi ini. Artinya, hampir kapan pun Anda membutuhkan informasi lebih lanjut, Anda dapat menggunakan help() untuk\n",
        "menemukan informasi yang Anda perlukan dengan cepat.\n"
      ],
      "metadata": {
        "id": "pUp7qvlqyRbB"
      }
    },
    {
      "cell_type": "code",
      "source": [
        "help(maks)\n",
        "#Bantuan tentang fungsi bawaan maks dalam modul bawaan:\n",
        "\n",
        "in[0]: maks?"
      ],
      "metadata": {
        "id": "llfrUsiNy5kS"
      },
      "execution_count": null,
      "outputs": []
    },
    {
      "cell_type": "code",
      "source": [
        "a = np.array([1, 2, 3, 4, 5, 6])\n",
        "in[1]: a?\n",
        "\n",
        "def ganda(a):\n",
        "    \"Kembalikan * 2\"\n",
        "  return a*2\n",
        "\n",
        "in [2]: ganda?\n",
        "in [3]: ganda??\n",
        "in [4]: len?\n",
        "in [5]: len?"
      ],
      "metadata": {
        "id": "lezyiGgizYI5"
      },
      "execution_count": null,
      "outputs": []
    },
    {
      "cell_type": "markdown",
      "source": [
        "#Bekerja Dengan Rumus Matematika\n",
        "-----------------------------------\n",
        "\n",
        "Kemudahan penerapan rumus matematika yang bekerja pada array menjadi salah satu hal yang membuat\n",
        "NumPy begitu banyak digunakan dalam komunitas ilmiah Python.\n",
        "\n"
      ],
      "metadata": {
        "id": "tY5nWBsU0Iwo"
      }
    },
    {
      "cell_type": "code",
      "source": [
        "# error = (1/n)*np.sum(np.square(predictions-labels))\n",
        "\n",
        "predictions = ([1],[1],[1])\n",
        "labels = ([1],[2],[3])\n",
        "n = 3\n",
        "\n",
        "error = (1/n)*np.sum(np.square(predictions-labels))"
      ],
      "metadata": {
        "id": "sy-lxAF3z648"
      },
      "execution_count": null,
      "outputs": []
    },
    {
      "cell_type": "markdown",
      "source": [
        "#Bagaimana cara menyimpan dan memuat objek NumPy\n",
        "---------------------------------------\n",
        "Bagian ini mencakup `np.save`, `np.savez`, `np.savetxt`, `np.load`, `np.loadtxt`\n",
        "\n",
        "Pada titik tertentu, Anda ingin menyimpan array ke disk dan memuatnya kembali tanpa harus menjalankan ulang\n",
        "kodenya. Untungnya, ada beberapa cara untuk menyimpan dan memuat objek dengan NumPy. Objek ndarray dapat\n",
        "disimpan dan dimuat dari file disk dengan fungsi loadtxt dan savetxt yang menangani file teks normal, fungsi muat\n",
        "dan simpan yang menangani file biner NumPy dengan ekstensi file .npy , dan fungsi savez yang menangani file\n",
        "NumPy dengan a berkas .npz perpanjangan\n",
        "\n",
        "File .npy dan .npz menyimpan data, bentuk, tipe d, dan informasi lain yang diperlukan untuk merekonstruksi\n",
        "ndarray sedemikian rupa sehingga memungkinkan array diambil dengan benar, bahkan ketika file berada di komputer\n",
        "lain dengan arsitektur berbeda.\n",
        "\n",
        "Jika Anda ingin menyimpan satu objek ndarray, simpanlah sebagai file .npy menggunakan np.save. Jika Anda ingin\n",
        "menyimpan lebih dari satu objek ndarray dalam satu file, simpan sebagai file .npz menggunakan np.savez. Anda juga\n",
        "dapat menyimpan beberapa array ke dalam satu file dalam format npz terkompresi dengan\n"
      ],
      "metadata": {
        "id": "P0F5GxDb09bO"
      }
    },
    {
      "cell_type": "code",
      "source": [
        "#Menyimpan\n",
        "a = np.array([1, 2, 3, 4, 5, 6])\n",
        "np.save('nama file', a)\n",
        "\n",
        "#Konstruksi Array\n",
        "b = np.load('namafile.npy')\n",
        "print(b)\n",
        "\n",
        "#Menyimpan dengan format tertentu\n",
        "csv_arr = np.array([1, 2, 3, 4, 5, 6, 7, 8])\n",
        "np.savetxt('file_baru.csv', csv_arr)\n",
        "np.loadtxt('file_baru.csv')"
      ],
      "metadata": {
        "id": "2p0Mexcl1Syy"
      },
      "execution_count": null,
      "outputs": []
    },
    {
      "cell_type": "markdown",
      "source": [
        "Fungsi savetxt() dan loadtxt() menerima parameter opsional tambahan seperti header, footer,\n",
        "dan pembatas. Meskipun file teks lebih mudah untuk dibagikan, file .npy dan .npz lebih kecil dan\n",
        "lebih cepat dibaca. Jika Anda memerlukan penanganan yang lebih canggih terhadap file teks\n",
        "Anda (misalnya, jika Anda perlu bekerja dengan baris yang berisi nilai yang hilang), Anda dapat\n",
        "menggunakan genfromtxt fungsi."
      ],
      "metadata": {
        "id": "PCaJR91-1yDz"
      }
    },
    {
      "cell_type": "markdown",
      "source": [
        "#Impor dan Ekspor CSV\n",
        "-------------------------\n",
        "Sangat mudah untuk membaca di CSV yang berisi informasi yang ada. Cara terbaik dan termudah untuk melakukan ini adalah\n",
        "dengan menggunakan `Pandas`.\n",
        "\n",
        "`import pandas as pd`\n"
      ],
      "metadata": {
        "id": "7oxgl4ps10pv"
      }
    },
    {
      "cell_type": "code",
      "source": [
        "#Import Pandas\n",
        "import pandas as pd"
      ],
      "metadata": {
        "id": "iXUSZsYP2cg1"
      },
      "execution_count": null,
      "outputs": []
    },
    {
      "cell_type": "code",
      "source": [
        "import pandas as pd\n",
        "x = pd.read_csv('[csv path]', header=0).values\n",
        "print (x)\n",
        "\n",
        "#Akses Kolom Tertentu\n",
        "x = pd.read_csv('music.csv', usecols=['Artist', 'Plays']).values\n",
        "print (x)"
      ],
      "metadata": {
        "id": "zFbVVxy62DZC"
      },
      "execution_count": null,
      "outputs": []
    },
    {
      "cell_type": "code",
      "source": [
        "> a = np.array([[-2.58289208, 0.43014843, -1.24082018, 1.59572603],\n",
        "                [ 0.99027828, 1.17150989, 0.94125714 , -0.14692469],\n",
        "                [ 0,81299683, -0,95068423, 0,11769564],\n",
        "                [ 0,20484034, 0,34784527, 1,96979195 ,0,51992837]])\n",
        "\n",
        "df = pd.DataFrame(a)\n",
        "print (df)\n",
        "\n",
        "#Menyimpan Kerangka\n",
        "df.to_csv('pd.csv')\n",
        "\n",
        "#Membaca dengan\n",
        "data = pd.read_csv('pd.csv')\n",
        "\n",
        "#Simpan dengan metode \"savetxt\"\n",
        "np.savetxt('np.csv', a, fmt='%.2f', pembatas=',', header='1, 2, 3, 4')"
      ],
      "metadata": {
        "id": "giTV0cSY2a9e"
      },
      "execution_count": null,
      "outputs": []
    },
    {
      "cell_type": "markdown",
      "source": [
        "#Merencanakan Array dengan Matplotlib\n",
        "---------------------------------------\n",
        "\n",
        "Jika Anda perlu membuat plot untuk nilai-nilai Anda, itu sangat sederhana dengan Matplotlib.\n"
      ],
      "metadata": {
        "id": "jMBOlMJA3Kqy"
      }
    },
    {
      "cell_type": "code",
      "source": [
        "import matplotlib.pyplot as plt"
      ],
      "metadata": {
        "id": "fTNa0AhU3WTo"
      },
      "execution_count": null,
      "outputs": []
    },
    {
      "cell_type": "code",
      "source": [
        "a = np.array([2, 1, 5, 7, 4, 6, 8, 14, 10, 9, 18, 20, 22])\n",
        "\n",
        "plt.plot(a)"
      ],
      "metadata": {
        "id": "5CmjqQdG23Bp"
      },
      "execution_count": null,
      "outputs": []
    },
    {
      "cell_type": "code",
      "source": [
        "x = np.linspace(0, 5, 20)\n",
        "y = np.linspace(0, 10, 20)\n",
        "\n",
        "plt.plot(x,y,\"purple\") #baris\n",
        "plt.plot(x, y, 'o') #titik\n",
        "\n",
        "#Opsi Visualisasi Lain\n",
        "fig = plt.figure()\n",
        "ax = fig.add_subplot(projection='3d')\n",
        "X = np.arange(-5, 5, 0.15)\n",
        "Y = np.arange(-5, 5, 0.15)\n",
        "X, Y = np.meshgrid(X, Y)\n",
        "R = np.sqrt(X**2 + Y**2)\n",
        "Z = np.sin(R)\n",
        "ax.plot_surface(X, Y, Z, rstride=1, cstride=1, cmap='viridis')"
      ],
      "metadata": {
        "id": "XdenWHc83iJ6"
      },
      "execution_count": null,
      "outputs": []
    }
  ]
}