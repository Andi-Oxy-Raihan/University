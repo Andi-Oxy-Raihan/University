{
  "nbformat": 4,
  "nbformat_minor": 0,
  "metadata": {
    "colab": {
      "provenance": []
    },
    "kernelspec": {
      "name": "python3",
      "display_name": "Python 3"
    },
    "language_info": {
      "name": "python"
    }
  },
  "cells": [
    {
      "cell_type": "markdown",
      "source": [
        "#Numpy Introduction\n",
        "------------------\n",
        "\n",
        "NumPy `(Numerical Python)` adalah pustaka Python sumber terbuka yang digunakan di hampir semua bidang sains dan\n",
        "teknik. Ini adalah standar universal untuk bekerja dengan data numerik dengan Python, dan merupakan inti dari\n",
        "ekosistem ilmiah Python dan PyData. Pengguna NumPy mencakup semua orang mulai dari pembuat kode pemula\n",
        "hingga peneliti berpengalaman yang melakukan penelitian dan pengembangan ilmiah dan industri mutakhir. NumPy API\n",
        "digunakan secara luas di Pandas, SciPy, Matplotlib, scikit-learn, scikit-image dan sebagian besar paket sains data dan\n",
        "Python ilmiah lainnya.\n"
      ],
      "metadata": {
        "id": "P1hkd-THUihp"
      }
    },
    {
      "cell_type": "markdown",
      "source": [
        "#1. Membaca Contoh Kode\n",
        "\n",
        "Jika Anda belum familiar dengan gaya ini, sangat mudah untuk memahaminya. Jika Anda melihat >>>, berarti Anda sedang\n",
        "melihat input, atau kode yang akan Anda masukkan. Segala sesuatu yang tidak memiliki >>> di depannya adalah\n",
        "keluaran, atau hasil dari menjalankan kode Anda. Ini adalah gaya yang Anda lihat saat menjalankan python di baris perintah,\n",
        "tetapi jika Anda menggunakan IPython, Anda mungkin melihat gaya yang berbeda. Perhatikan bahwa ini bukan bagian\n",
        "dari kode dan akan menyebabkan kesalahan jika diketik atau ditempel ke dalam shell Python. Itu dapat diketik atau ditempel\n",
        "dengan aman ke dalam shell IPython; >>> diabaikan.\n",
        "\n",
        "\n",
        "a = np.arange(6) >>> a2 =\n",
        "a[np.newaxis, :] >>> a2.shape (1, 6)\n"
      ],
      "metadata": {
        "id": "t1TKs2Zhrnw3"
      }
    },
    {
      "cell_type": "code",
      "source": [
        "import numpy as np\n",
        "\n",
        "a = np.arange(6)\n",
        "a2 = a[np.newaxis, :]\n",
        "a2.shape\n",
        "(1, 6)"
      ],
      "metadata": {
        "id": "FxaKCKkYjqhH"
      },
      "execution_count": null,
      "outputs": []
    },
    {
      "cell_type": "markdown",
      "source": [
        "#Apa perbedaan antara daftar Python dan array NumPy?\n",
        "\n",
        "NumPy memberi Anda beragam cara cepat dan efisien untuk membuat array dan memanipulasi data numerik di\n",
        "dalamnya. Meskipun daftar Python dapat berisi tipe data yang berbeda dalam satu daftar, semua elemen dalam array NumPy harus homogen. Operasi matematika yang dimaksudkan untuk dilakukan pada array akan sangat tidak efisien jika\n",
        "array tidak ada. tidak homogen.\n",
        "Array NumPy lebih cepat dan lebih kompak daripada daftar Python. Sebuah array mengkonsumsi lebih sedikit\n",
        "memori dan nyaman digunakan. NumPy menggunakan lebih sedikit memori untuk menyimpan data dan\n",
        "menyediakan mekanisme untuk menentukan tipe data. Hal ini memungkinkan kode untuk dioptimalkan lebih jauh.\n"
      ],
      "metadata": {
        "id": "HyZr5R-tsLX8"
      }
    },
    {
      "cell_type": "code",
      "source": [
        "a = np.array([1, 2, 3, 4, 5, 6])\n",
        "print(a[0])\n",
        "\n",
        "a = np.array([[1, 2, 3, 4], [5, 6, 7, 8], [9, 10, 11, 12]])\n",
        "print(a[0])"
      ],
      "metadata": {
        "id": "XZwIbt2CtJHt"
      },
      "execution_count": null,
      "outputs": []
    },
    {
      "cell_type": "markdown",
      "source": [
        "#2. Membuat Array Dasar\n",
        "--------------------------\n",
        "\n",
        "Bagian ini mencakup np.array(), np.zeros(), np.ones(), np.empty(), np.arange(), np.linspace(), dtype\n"
      ],
      "metadata": {
        "id": "GKc7L_aLsllH"
      }
    },
    {
      "cell_type": "code",
      "source": [
        "import numpy as np\n",
        "#Membuat array dasar\n",
        "a = np.array([1, 2, 3])\n",
        "\n",
        "#\n",
        "np.zeros(2)\n",
        "\n",
        "np.ones(2)\n",
        "\n",
        "np.empty(2)\n",
        "\n",
        "np.arange(4)\n",
        "\n",
        "np.arange(2, 9, 2)\n",
        "\n",
        "np.linspace(0, 10, num=5)\n",
        "\n",
        "x = np.ones(2, dtype=np.int64)"
      ],
      "metadata": {
        "id": "MKG4lPEAkJ_8"
      },
      "execution_count": null,
      "outputs": []
    },
    {
      "cell_type": "code",
      "source": [
        "#Menambah, Menghapus, dan Menyortir elemen\n",
        "arr = np.array([2, 1, 5, 3, 7, 4, 6, 8])\n",
        "np.sort(arr)\n",
        "\n",
        "a = np.array([1, 2, 3, 4])\n",
        "b = np.array([5, 6, 7, 8])\n",
        "np.concatenate((a, b))\n",
        "\n",
        "x = np.array([[1, 2], [3, 4]])\n",
        "y = np.array([[5, 6]])\n",
        "np.concatenate((x, y), axis=0)\n",
        "\n",
        "#Cara mengetahui bentuk dan ukuran Array\n",
        "array_example = np.array([[[0, 1, 2, 3],\n",
        "                          [4, 5, 6, 7]],\n",
        "\n",
        "                          [[0, 1, 2, 3],\n",
        "                          [4, 5, 6, 7]],\n",
        "\n",
        "                          [[0 ,1 ,2, 3],\n",
        "                          [4, 5, 6, 7]]])\n",
        "array_example.ndim\n",
        "array_example.size\n",
        "array_example.shape\n",
        "\n",
        "#Mengubah Bentuk Array\n",
        "a = np.arange(6)\n",
        "print(a)\n",
        "\n",
        "b = a.reshape(3, 2)\n",
        "print(b)\n",
        "\n",
        "np.reshape(a, newshape=(1, 6), order='C')\n",
        "\n",
        "#Mengubah Array 1D menjadi Array 2D (Menambah Axis Baru)\n",
        "a = np.array([1, 2, 3, 4, 5, 6])\n",
        "a.shape\n",
        "\n",
        "a2 = a[np.newaxis, :]\n",
        "a2.shape\n",
        "\n",
        "row_vector = a[np.newaxis, :]\n",
        "row_vector.shape\n",
        "\n",
        "col_vector = a[:, np.newaxis]\n",
        "col_vector.shape\n",
        "\n",
        "a = np.array([1, 2, 3, 4, 5, 6])\n",
        "a.shape\n",
        "\n",
        "b = np.expand_dims(a, axis=1)\n",
        "b.shape\n",
        "\n",
        "c = np.expand_dims(a, axis=0)\n",
        "c.shape\n",
        "\n",
        "#indeks dan Irisan\n",
        "data = np.array([1, 2, 3])\n",
        "data[1]\n",
        "\n",
        "data[0:2]\n",
        "array([1, 2])\n",
        "data[1:]\n",
        "array([2, 3])\n",
        "data[-2:]\n",
        "array([2, 3])\n",
        "\n",
        "a = np.array([[1 , 2, 3, 4], [5, 6, 7, 8], [9, 10, 11, 12]])\n",
        "print(a[a < 5])\n",
        "\n",
        "five_up = (a >= 5)\n",
        "print(a[five_up])\n",
        "\n",
        "divisible_by_2 = a[a%2==0]\n",
        "print(divisible_by_2)\n",
        "\n",
        "c = a[(a > 2) & (a < 11)]\n",
        "print(c)\n",
        "\n",
        "five_up = (a > 5) | (a == 5)\n",
        "print(five_up)\n",
        "\n",
        "a = np.array([[1, 2, 3, 4], [5, 6, 7, 8], [9, 10, 11, 12]])\n",
        "b = np.nonzero(a < 5)\n",
        "print(b)\n",
        "\n",
        "list_of_coordinates= list(zip(b[0], b[1]))\n",
        "for coord in list_of_coordinates:\n",
        "  print(coord)\n",
        "\n",
        "print(a[b])\n",
        "\n",
        "not_there = np.nonzero(a == 42)\n",
        "print(not_there)"
      ],
      "metadata": {
        "id": "pk8XHKr4lFW2"
      },
      "execution_count": null,
      "outputs": []
    },
    {
      "cell_type": "code",
      "source": [
        "#Membuat Array dari data yang sudah ada\n",
        "a = np.array([1, 2, 3, 4, 5, 6, 7, 8, 9, 10])\n",
        "arr1 = a[3:8]\n",
        "arr1\n",
        "\n",
        "a1 = np.array([[1, 1],\n",
        "              [2, 2]])\n",
        "a2 = np.array([[3, 3],\n",
        "              [4, 4]])\n",
        "np.vstack((a1, a2))\n",
        "\n",
        "np.hstack((a1, a2))\n",
        "\n",
        "x = np.arange(1, 25).reshape(2, 12)\n",
        "x\n",
        "\n",
        "np.hsplit(x, 3)\n",
        "np.hsplit(x, (3, 4))\n",
        "\n",
        "a = np.array([[1, 2, 3, 4], [5, 6, 7, 8], [9, 10, 11, 12]])\n",
        "b1 = a[0, :]\n",
        "b1\n",
        "\n",
        "b1[0] = 99\n",
        "b1\n",
        "a\n",
        "b2 = a.copy()"
      ],
      "metadata": {
        "id": "m6mI3tbKoWGd"
      },
      "execution_count": null,
      "outputs": []
    },
    {
      "cell_type": "code",
      "source": [
        "#Operasi Dasar Array\n",
        "data = np.array([1, 2])\n",
        "ones = np.ones(2, dtype=int)\n",
        "data + ones\n",
        "data - ones\n",
        "data * data\n",
        "data / data\n",
        "\n",
        "a = np.array([1, 2, 3, 4])\n",
        "a.sum()\n",
        "\n",
        "b = np.array([[1, 1], [2, 2]])\n",
        "b.sum(axis=0)\n",
        "b.sum(axis=1)"
      ],
      "metadata": {
        "id": "4S1T5mhrppLg"
      },
      "execution_count": null,
      "outputs": []
    },
    {
      "cell_type": "code",
      "source": [
        "#Penyiaran\n",
        "data = np.array([1.0, 2.0])\n",
        "data * 1.6\n",
        "\n",
        "#Operasi Array Yang Lebih Berguna\n",
        "data.max()\n",
        "\n",
        "data.min()\n",
        "\n",
        "data.sum()\n",
        "\n",
        "a = np.array([[0.45053314, 0.17296777, 0.34376245, 0.5510652],\n",
        "              [0.54627315, 0.05093587, 0.40067661, 0.55645993],\n",
        "              [0.12697628, 0.82485143, 0.26590556, 0.56917101]])\n",
        "a.sum()\n",
        "a.min()\n",
        "a.min(axis=0)"
      ],
      "metadata": {
        "id": "WAAdXOGiqgyC"
      },
      "execution_count": null,
      "outputs": []
    },
    {
      "cell_type": "code",
      "source": [
        "#Membuat Matriks\n",
        "data = np.array([[1, 2], [3, 4], [5, 6]])\n",
        "data\n",
        "\n",
        "data[0,1]\n",
        "data[1:3]\n",
        "data[0:2, 0]\n",
        "\n",
        "data.max()\n",
        "data.min()\n",
        "data.sum()\n",
        "\n",
        "data = np.array([[1, 2], [5, 3], [4, 6]])\n",
        "data\n",
        "data.max(axis=0)\n",
        "data.max(axis=1)\n",
        "\n",
        "data = np.array([[1, 2], [3, 4]])\n",
        "ones = np.array([[1, 1], [1, 1]])\n",
        "data + ones\n",
        "\n",
        "data = np.array([[1, 2], [3, 4], [5, 6]])\n",
        "ones_row = np.array([[1, 1]])\n",
        "data + ones_row\n",
        "\n",
        "np.ones((4, 3, 2))\n",
        "np.ones(3)\n",
        "np.zeros(3)\n",
        "\n",
        "rng = np.random.default_rng()\n",
        "rng.random(3)\n",
        "\n",
        "np.ones ((3,2))\n",
        "np.zeros ((3,2))\n",
        "rng.random ((3,2))"
      ],
      "metadata": {
        "id": "hVtZhiZ3rj3V"
      },
      "execution_count": null,
      "outputs": []
    },
    {
      "cell_type": "code",
      "source": [
        "#Membuat Angka Acak\n",
        "rng.integers(5, size=(2, 4))\n",
        "\n",
        "#Cara mendapatkan item unik dan menghitungnya\n",
        "a = np.array([11, 11, 12, 13, 14, 15, 16, 17, 12, 13, 11, 14, 18, 19, 20])\n",
        "unique_values = np.unique(a)\n",
        "print(unique_values)\n",
        "\n",
        "unique_values, indices_list = np.unique(a, return_index=True)\n",
        "print(indices_list)\n",
        "\n",
        "unique_values, occurrence_count = np.unique(a, return_counts=True)\n",
        "print(occurrence_count)\n",
        "\n",
        "a_2d = np.array([[1, 2, 3, 4], [5, 6, 7, 8], [9, 10, 11, 12], [1, 2, 3, 4]])\n",
        "unique_values = np.unique(a_2d)\n",
        "print(unique_values)\n",
        "\n",
        "unique_rows = np.unique(a_2d, axis=0)\n",
        "print(unique_rows)\n",
        "\n",
        "unique_rows, indices, occurrence_count = np.unique(a_2d, axis=0, return_counts=True, return_index=True)\n",
        "print(unique_rows)\n",
        "print(indices)\n",
        "print(occurrence_count)"
      ],
      "metadata": {
        "id": "ylcX0gems1PF"
      },
      "execution_count": null,
      "outputs": []
    },
    {
      "cell_type": "code",
      "source": [
        "#Matriks Transpose\n",
        "data.reshape(2, 3)\n",
        "data.reshape(3, 2)\n",
        "\n",
        "arr = np.arange(6).reshape((2, 3))\n",
        "arr\n",
        "\n",
        "arr.transpose()\n",
        "\n",
        "arr.T\n",
        "\n",
        "#Membalikkan Array\n",
        "arr = np.array([1, 2, 3, 4, 5, 6, 7, 8])\n",
        "reversed_arr = np.flip(arr)\n",
        "print('Reversed Array: ', reversed_arr)\n",
        "arr_2d = np.array([[1, 2, 3, 4], [5, 6, 7, 8], [9, 10, 11, 12]])\n",
        "\n",
        "reversed_arr = np.flip(arr_2d)\n",
        "print(reversed_arr)\n",
        "\n",
        "reversed_arr_rows = np.flip(arr_2d, axis=0)\n",
        "print(reversed_arr_rows)\n",
        "\n",
        "reversed_arr_columns = np.flip(arr_2d, axis=1)\n",
        "print(reversed_arr_columns)\n",
        "\n",
        "arr_2d[1] = np.flip(arr_2d[1])\n",
        "print(arr_2d)\n",
        "\n",
        "arr_2d[:,1] = np.flip(arr_2d[:,1])\n",
        "print(arr_2d)\n",
        "\n",
        "#Membentuk kembali dan meratakan array multidimensi\n",
        "x = np.array([[1 , 2, 3, 4], [5, 6, 7, 8], [9, 10, 11, 12]])\n",
        "x.flatten()\n",
        "\n",
        "a1 = x.flatten()\n",
        "a1[0] = 99\n",
        "print(x)\n",
        "print(a1)\n",
        "\n",
        "a2 = x.ravel()\n",
        "a2[0] = 98\n",
        "print(x)\n",
        "print(a2)"
      ],
      "metadata": {
        "id": "rVeeXSIkt7yH"
      },
      "execution_count": null,
      "outputs": []
    },
    {
      "cell_type": "code",
      "source": [
        "#Mengakses Docstring untuk Informasi lebih lanjut\n",
        "help(max)\n",
        "In [0]: max?\n",
        "\n",
        "a = np.array([1, 2, 3, 4, 5, 6])\n",
        "In [1]: a?\n",
        "\n",
        "def double(a):\n",
        "  return a * 2\n",
        "\n",
        "In [2]: double?\n",
        "In [3]: double??\n",
        "In [4]: len?\n",
        "In [5]: len??"
      ],
      "metadata": {
        "id": "3TUh1oSDv79j"
      },
      "execution_count": null,
      "outputs": []
    },
    {
      "cell_type": "code",
      "source": [
        "#Menggunakan formula matematika\n",
        "error = (1/n)*np.sum(np.square(predictions-labels))\n",
        "error = (1/3)*np.sum(np.square)"
      ],
      "metadata": {
        "id": "uNTFE_PkwwdK"
      },
      "execution_count": null,
      "outputs": []
    },
    {
      "cell_type": "code",
      "source": [
        "#Cara menyimpan dan membuka Objek NumPy\n",
        "a = np.array([1, 2, 3, 4, 5, 6])\n",
        "np.save('filename', a)\n",
        "\n",
        "b = np.load('filename.npy')\n",
        "print(b)\n",
        "\n",
        "csv_arr = np.array([1, 2, 3, 4, 5, 6, 7, 8])\n",
        "np.savetxt('new_file.csv', csv_arr)\n",
        "\n",
        " np.loadtxt('new_file.csv')"
      ],
      "metadata": {
        "id": "JYd6HaJaxQ-h"
      },
      "execution_count": null,
      "outputs": []
    },
    {
      "cell_type": "code",
      "source": [
        "import pandas as pd #Import dan export csv\n",
        "x = pd.read_csv('music.csv', header=0).values\n",
        "print(x)\n",
        "\n",
        "x = pd.read_csv('music.csv', usecols=['Artist', 'Plays']).values\n",
        "print(x)\n",
        "\n",
        "a = np.array([[-2.58289208, 0.43014843, -1.24082018, 1.59572603],\n",
        "              [ 0.99027828, 1.17150989, 0.94125714, -0.14692469],\n",
        "              [ 0.76989341, 0.81299683, -0.95068423, 0.11769564],\n",
        "              [ 0.20484034, 0.34784527, 1.96979195, 0.51992837]])\n",
        "df = pd.DataFrame(a)\n",
        "print(df)\n",
        "\n",
        "df.to_csv('pd.csv')\n",
        "\n",
        "data = pd.read_csv('pd.csv')\n",
        "\n",
        "np.savetxt('np.csv', a, fmt='%.2f', delimiter=',', header='1, 2, 3, 4')"
      ],
      "metadata": {
        "id": "dfGqHZ4FxuV3"
      },
      "execution_count": null,
      "outputs": []
    },
    {
      "cell_type": "code",
      "source": [
        "#Membuat Plot dengan Matplotlib\n",
        "import matplotlib.pyplot as plt\n",
        "\n",
        "a = np.array([2, 1, 5, 7, 4, 6, 8, 14, 10, 9, 18, 20, 22])\n",
        "plt.plot(a)"
      ],
      "metadata": {
        "id": "zGskScEDyckI"
      },
      "execution_count": null,
      "outputs": []
    },
    {
      "cell_type": "code",
      "source": [
        "x = np.linspace(0, 5, 20)\n",
        "y = np.linspace(0, 10, 20)\n",
        "plt.plot(x, y, 'purple')\n",
        "plt.plot(x, y, 'o')"
      ],
      "metadata": {
        "id": "GSTrBbiUzQDN"
      },
      "execution_count": null,
      "outputs": []
    },
    {
      "cell_type": "code",
      "source": [
        "fig = plt.figure()\n",
        "ax = fig.add_subplot(projection='3d')\n",
        "X = np.arange(-5, 5, 0.15)\n",
        "Y = np.arange(-5, 5, 0.15)\n",
        "X, Y = np.meshgrid(X, Y)\n",
        "R = np.sqrt(X**2 + Y**2)\n",
        "Z = np.sin(R)\n",
        "ax.plot_surface(X, Y, Z, rstride=1, cstride=1, cmap='viridis')"
      ],
      "metadata": {
        "id": "iAA9q9GrzViC"
      },
      "execution_count": null,
      "outputs": []
    }
  ]
}